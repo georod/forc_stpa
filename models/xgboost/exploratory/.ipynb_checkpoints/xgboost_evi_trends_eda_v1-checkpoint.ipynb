{
 "cells": [
  {
   "cell_type": "markdown",
   "id": "5796f876",
   "metadata": {},
   "source": [
    "## Analysis of EVI Trends - Exploratory data analysis"
   ]
  },
  {
   "cell_type": "markdown",
   "id": "e6e34ca0",
   "metadata": {},
   "source": [
    "Peter R., 2025-03-11"
   ]
  },
  {
   "cell_type": "markdown",
   "id": "413f9ee6",
   "metadata": {},
   "source": [
    "### Intro\n",
    "There are several way to carry out Extreme Gradient Boosting (XGB) models. R has packages such as \"dismo\" and \"xgboosting\". Similarly, there are several ways to do XGB with Python. You can use the Sklearn framework and within it you can use train(), XGBClassifier(), XGBRegressor(), etc.  Here I use XGBRegressor() to analyze forest EVI breaks (both negative & positive breaks).\n",
    "\n",
    "Here is explore the new data set created wiht DuckDb which has more than 100 variables. The goal is to come up with a smaller set of variables to run with XGB.\n",
    "\n",
    "Note that driver data have been assigned in the df by using spatio-temporal matches between breaks and remote sensing derived disturbance data. So far, I only have data for fire, harvest, insects, Hansen, & CanLaD  The driver data are mainly nulls as I was not able to match most of the EVI breaks with disturbance data. An important missing driver is likely tree windthrow or drought.\n",
    "\n",
    "In analyze negative and positive breaks separately. I use variation inflation factors (VIF) to choose a smaller set of variables to run with XGB.\n",
    "\n"
   ]
  },
  {
   "cell_type": "markdown",
   "id": "3e9fe312",
   "metadata": {},
   "source": [
    "#### File and folder path settings"
   ]
  },
  {
   "cell_type": "code",
   "execution_count": 1,
   "id": "b327cd33",
   "metadata": {},
   "outputs": [
    {
     "name": "stdout",
     "output_type": "stream",
     "text": [
      "C:\\Users\\Peter R\\github\\forc_stpa\\models\\xgboost\\exploratory\n"
     ]
    }
   ],
   "source": [
    "# Import the os module\n",
    "import os\n",
    "\n",
    "# Get the current working directory\n",
    "cwd = os.getcwd()\n",
    "\n",
    "print(cwd)"
   ]
  },
  {
   "cell_type": "markdown",
   "id": "1c656c99",
   "metadata": {},
   "source": [
    "#### Load, explore and prepare data for VIF"
   ]
  },
  {
   "cell_type": "code",
   "execution_count": 121,
   "id": "911fd651",
   "metadata": {
    "scrolled": true
   },
   "outputs": [
    {
     "data": {
      "text/html": [
       "<div>\n",
       "<style scoped>\n",
       "    .dataframe tbody tr th:only-of-type {\n",
       "        vertical-align: middle;\n",
       "    }\n",
       "\n",
       "    .dataframe tbody tr th {\n",
       "        vertical-align: top;\n",
       "    }\n",
       "\n",
       "    .dataframe thead th {\n",
       "        text-align: right;\n",
       "    }\n",
       "</style>\n",
       "<table border=\"1\" class=\"dataframe\">\n",
       "  <thead>\n",
       "    <tr style=\"text-align: right;\">\n",
       "      <th></th>\n",
       "      <th>pix</th>\n",
       "      <th>year</th>\n",
       "      <th>for_age_2003</th>\n",
       "      <th>for_con_2003</th>\n",
       "      <th>for_pro</th>\n",
       "      <th>elev</th>\n",
       "      <th>p1_trend</th>\n",
       "      <th>p1_trend_slope</th>\n",
       "      <th>trend_20yrs</th>\n",
       "      <th>delta_for_age_lag3</th>\n",
       "      <th>...</th>\n",
       "      <th>max_cmi_sm_rel30_reg</th>\n",
       "      <th>dd5_wt_nrange30_reg</th>\n",
       "      <th>min_dd5_wt_rel30_reg</th>\n",
       "      <th>max_dd5_wt_rel30_reg</th>\n",
       "      <th>map_nrange30_reg</th>\n",
       "      <th>min_map_rel30_reg</th>\n",
       "      <th>max_map_rel30_reg</th>\n",
       "      <th>mat_nrange30_reg</th>\n",
       "      <th>min_mat_rel30_reg</th>\n",
       "      <th>max_mat_rel30_reg</th>\n",
       "    </tr>\n",
       "  </thead>\n",
       "  <tbody>\n",
       "    <tr>\n",
       "      <th>0</th>\n",
       "      <td>34565</td>\n",
       "      <td>2003</td>\n",
       "      <td>81.485</td>\n",
       "      <td>30.536</td>\n",
       "      <td>0</td>\n",
       "      <td>385.239</td>\n",
       "      <td>1</td>\n",
       "      <td>3.916</td>\n",
       "      <td>NaN</td>\n",
       "      <td>NaN</td>\n",
       "      <td>...</td>\n",
       "      <td>-1.761</td>\n",
       "      <td>0.800</td>\n",
       "      <td>1.067</td>\n",
       "      <td>1.867</td>\n",
       "      <td>0.200</td>\n",
       "      <td>0.942</td>\n",
       "      <td>1.141</td>\n",
       "      <td>0.487</td>\n",
       "      <td>0.829</td>\n",
       "      <td>1.316</td>\n",
       "    </tr>\n",
       "    <tr>\n",
       "      <th>1</th>\n",
       "      <td>35726</td>\n",
       "      <td>2003</td>\n",
       "      <td>90.411</td>\n",
       "      <td>39.377</td>\n",
       "      <td>0</td>\n",
       "      <td>378.061</td>\n",
       "      <td>1</td>\n",
       "      <td>4.678</td>\n",
       "      <td>5.0</td>\n",
       "      <td>NaN</td>\n",
       "      <td>...</td>\n",
       "      <td>-1.026</td>\n",
       "      <td>0.533</td>\n",
       "      <td>1.067</td>\n",
       "      <td>1.600</td>\n",
       "      <td>0.222</td>\n",
       "      <td>0.896</td>\n",
       "      <td>1.117</td>\n",
       "      <td>0.477</td>\n",
       "      <td>0.792</td>\n",
       "      <td>1.268</td>\n",
       "    </tr>\n",
       "    <tr>\n",
       "      <th>2</th>\n",
       "      <td>46753</td>\n",
       "      <td>2003</td>\n",
       "      <td>84.312</td>\n",
       "      <td>37.032</td>\n",
       "      <td>0</td>\n",
       "      <td>332.765</td>\n",
       "      <td>1</td>\n",
       "      <td>4.386</td>\n",
       "      <td>NaN</td>\n",
       "      <td>NaN</td>\n",
       "      <td>...</td>\n",
       "      <td>-2.197</td>\n",
       "      <td>1.333</td>\n",
       "      <td>1.067</td>\n",
       "      <td>2.400</td>\n",
       "      <td>0.183</td>\n",
       "      <td>0.968</td>\n",
       "      <td>1.151</td>\n",
       "      <td>0.501</td>\n",
       "      <td>0.966</td>\n",
       "      <td>1.468</td>\n",
       "    </tr>\n",
       "    <tr>\n",
       "      <th>3</th>\n",
       "      <td>82997</td>\n",
       "      <td>2003</td>\n",
       "      <td>66.546</td>\n",
       "      <td>40.054</td>\n",
       "      <td>0</td>\n",
       "      <td>287.955</td>\n",
       "      <td>1</td>\n",
       "      <td>4.772</td>\n",
       "      <td>1.0</td>\n",
       "      <td>NaN</td>\n",
       "      <td>...</td>\n",
       "      <td>-0.248</td>\n",
       "      <td>0.800</td>\n",
       "      <td>1.067</td>\n",
       "      <td>1.867</td>\n",
       "      <td>0.210</td>\n",
       "      <td>0.882</td>\n",
       "      <td>1.092</td>\n",
       "      <td>0.484</td>\n",
       "      <td>0.914</td>\n",
       "      <td>1.398</td>\n",
       "    </tr>\n",
       "    <tr>\n",
       "      <th>4</th>\n",
       "      <td>144526</td>\n",
       "      <td>2003</td>\n",
       "      <td>79.291</td>\n",
       "      <td>46.629</td>\n",
       "      <td>1</td>\n",
       "      <td>425.013</td>\n",
       "      <td>1</td>\n",
       "      <td>2.940</td>\n",
       "      <td>NaN</td>\n",
       "      <td>NaN</td>\n",
       "      <td>...</td>\n",
       "      <td>-1.506</td>\n",
       "      <td>1.067</td>\n",
       "      <td>1.067</td>\n",
       "      <td>2.133</td>\n",
       "      <td>0.187</td>\n",
       "      <td>0.979</td>\n",
       "      <td>1.166</td>\n",
       "      <td>0.497</td>\n",
       "      <td>0.844</td>\n",
       "      <td>1.341</td>\n",
       "    </tr>\n",
       "  </tbody>\n",
       "</table>\n",
       "<p>5 rows × 84 columns</p>\n",
       "</div>"
      ],
      "text/plain": [
       "      pix  year  for_age_2003  for_con_2003  for_pro     elev  p1_trend  \\\n",
       "0   34565  2003        81.485        30.536        0  385.239         1   \n",
       "1   35726  2003        90.411        39.377        0  378.061         1   \n",
       "2   46753  2003        84.312        37.032        0  332.765         1   \n",
       "3   82997  2003        66.546        40.054        0  287.955         1   \n",
       "4  144526  2003        79.291        46.629        1  425.013         1   \n",
       "\n",
       "   p1_trend_slope  trend_20yrs  delta_for_age_lag3  ...  max_cmi_sm_rel30_reg  \\\n",
       "0           3.916          NaN                 NaN  ...                -1.761   \n",
       "1           4.678          5.0                 NaN  ...                -1.026   \n",
       "2           4.386          NaN                 NaN  ...                -2.197   \n",
       "3           4.772          1.0                 NaN  ...                -0.248   \n",
       "4           2.940          NaN                 NaN  ...                -1.506   \n",
       "\n",
       "   dd5_wt_nrange30_reg  min_dd5_wt_rel30_reg  max_dd5_wt_rel30_reg  \\\n",
       "0                0.800                 1.067                 1.867   \n",
       "1                0.533                 1.067                 1.600   \n",
       "2                1.333                 1.067                 2.400   \n",
       "3                0.800                 1.067                 1.867   \n",
       "4                1.067                 1.067                 2.133   \n",
       "\n",
       "   map_nrange30_reg  min_map_rel30_reg  max_map_rel30_reg  mat_nrange30_reg  \\\n",
       "0             0.200              0.942              1.141             0.487   \n",
       "1             0.222              0.896              1.117             0.477   \n",
       "2             0.183              0.968              1.151             0.501   \n",
       "3             0.210              0.882              1.092             0.484   \n",
       "4             0.187              0.979              1.166             0.497   \n",
       "\n",
       "   min_mat_rel30_reg  max_mat_rel30_reg  \n",
       "0              0.829              1.316  \n",
       "1              0.792              1.268  \n",
       "2              0.966              1.468  \n",
       "3              0.914              1.398  \n",
       "4              0.844              1.341  \n",
       "\n",
       "[5 rows x 84 columns]"
      ]
     },
     "execution_count": 121,
     "metadata": {},
     "output_type": "execute_result"
    }
   ],
   "source": [
    "import pandas as pd\n",
    "#from pandas import read_csv\n",
    "import numpy as np\n",
    "from numpy import nan\n",
    "\n",
    "# Windows\n",
    "#df1 = pd.read_csv(r'.\\data\\version1\\forest_evi_breaks_positive_v1.csv', skipinitialspace=True)\n",
    "#df1 = pd.read_csv(r'.\\data\\forest_evi_breaks_positive_v2.csv', skipinitialspace=True)\n",
    "df1 = pd.read_csv(r'.\\data\\df2_trends_p1_vars_greening_v2.csv', skipinitialspace=True)\n",
    "df1.head()\n"
   ]
  },
  {
   "cell_type": "code",
   "execution_count": 122,
   "id": "3ac5c645",
   "metadata": {},
   "outputs": [
    {
     "data": {
      "text/html": [
       "<div>\n",
       "<style scoped>\n",
       "    .dataframe tbody tr th:only-of-type {\n",
       "        vertical-align: middle;\n",
       "    }\n",
       "\n",
       "    .dataframe tbody tr th {\n",
       "        vertical-align: top;\n",
       "    }\n",
       "\n",
       "    .dataframe thead th {\n",
       "        text-align: right;\n",
       "    }\n",
       "</style>\n",
       "<table border=\"1\" class=\"dataframe\">\n",
       "  <thead>\n",
       "    <tr style=\"text-align: right;\">\n",
       "      <th></th>\n",
       "      <th>pix</th>\n",
       "      <th>year</th>\n",
       "      <th>for_age_2003</th>\n",
       "      <th>for_con_2003</th>\n",
       "      <th>for_pro</th>\n",
       "      <th>elev</th>\n",
       "      <th>p1_trend</th>\n",
       "      <th>p1_trend_slope</th>\n",
       "      <th>trend_20yrs</th>\n",
       "      <th>delta_for_age_lag3</th>\n",
       "      <th>...</th>\n",
       "      <th>max_cmi_sm_rel30_reg</th>\n",
       "      <th>dd5_wt_nrange30_reg</th>\n",
       "      <th>min_dd5_wt_rel30_reg</th>\n",
       "      <th>max_dd5_wt_rel30_reg</th>\n",
       "      <th>map_nrange30_reg</th>\n",
       "      <th>min_map_rel30_reg</th>\n",
       "      <th>max_map_rel30_reg</th>\n",
       "      <th>mat_nrange30_reg</th>\n",
       "      <th>min_mat_rel30_reg</th>\n",
       "      <th>max_mat_rel30_reg</th>\n",
       "    </tr>\n",
       "  </thead>\n",
       "  <tbody>\n",
       "    <tr>\n",
       "      <th>count</th>\n",
       "      <td>11671.000000</td>\n",
       "      <td>11671.0</td>\n",
       "      <td>11069.000000</td>\n",
       "      <td>11069.000000</td>\n",
       "      <td>11671.000000</td>\n",
       "      <td>11615.000000</td>\n",
       "      <td>11671.0</td>\n",
       "      <td>11671.000000</td>\n",
       "      <td>4372.000000</td>\n",
       "      <td>0.0</td>\n",
       "      <td>...</td>\n",
       "      <td>11615.000000</td>\n",
       "      <td>11615.000000</td>\n",
       "      <td>11615.000000</td>\n",
       "      <td>11615.000000</td>\n",
       "      <td>11615.000000</td>\n",
       "      <td>11615.000000</td>\n",
       "      <td>11615.000000</td>\n",
       "      <td>11615.000000</td>\n",
       "      <td>11615.000000</td>\n",
       "      <td>11615.000000</td>\n",
       "    </tr>\n",
       "    <tr>\n",
       "      <th>mean</th>\n",
       "      <td>212179.787336</td>\n",
       "      <td>2003.0</td>\n",
       "      <td>81.493424</td>\n",
       "      <td>35.188861</td>\n",
       "      <td>0.144289</td>\n",
       "      <td>376.156902</td>\n",
       "      <td>1.0</td>\n",
       "      <td>4.130047</td>\n",
       "      <td>1.805124</td>\n",
       "      <td>NaN</td>\n",
       "      <td>...</td>\n",
       "      <td>-0.664537</td>\n",
       "      <td>1.004187</td>\n",
       "      <td>1.248617</td>\n",
       "      <td>2.252648</td>\n",
       "      <td>0.205940</td>\n",
       "      <td>0.917234</td>\n",
       "      <td>1.123171</td>\n",
       "      <td>0.488299</td>\n",
       "      <td>0.919343</td>\n",
       "      <td>1.407663</td>\n",
       "    </tr>\n",
       "    <tr>\n",
       "      <th>std</th>\n",
       "      <td>144574.185640</td>\n",
       "      <td>0.0</td>\n",
       "      <td>12.031176</td>\n",
       "      <td>14.137996</td>\n",
       "      <td>0.351398</td>\n",
       "      <td>71.712896</td>\n",
       "      <td>0.0</td>\n",
       "      <td>1.026748</td>\n",
       "      <td>1.707907</td>\n",
       "      <td>NaN</td>\n",
       "      <td>...</td>\n",
       "      <td>0.967256</td>\n",
       "      <td>0.236738</td>\n",
       "      <td>0.180552</td>\n",
       "      <td>0.360143</td>\n",
       "      <td>0.014839</td>\n",
       "      <td>0.053042</td>\n",
       "      <td>0.042362</td>\n",
       "      <td>0.008940</td>\n",
       "      <td>0.108270</td>\n",
       "      <td>0.107471</td>\n",
       "    </tr>\n",
       "    <tr>\n",
       "      <th>min</th>\n",
       "      <td>503.000000</td>\n",
       "      <td>2003.0</td>\n",
       "      <td>1.977000</td>\n",
       "      <td>0.951000</td>\n",
       "      <td>0.000000</td>\n",
       "      <td>128.690000</td>\n",
       "      <td>1.0</td>\n",
       "      <td>2.263000</td>\n",
       "      <td>1.000000</td>\n",
       "      <td>NaN</td>\n",
       "      <td>...</td>\n",
       "      <td>-2.923000</td>\n",
       "      <td>0.533000</td>\n",
       "      <td>1.067000</td>\n",
       "      <td>1.600000</td>\n",
       "      <td>0.174000</td>\n",
       "      <td>0.797000</td>\n",
       "      <td>1.029000</td>\n",
       "      <td>0.462000</td>\n",
       "      <td>0.672000</td>\n",
       "      <td>1.161000</td>\n",
       "    </tr>\n",
       "    <tr>\n",
       "      <th>25%</th>\n",
       "      <td>62242.500000</td>\n",
       "      <td>2003.0</td>\n",
       "      <td>73.923000</td>\n",
       "      <td>24.071000</td>\n",
       "      <td>0.000000</td>\n",
       "      <td>341.859500</td>\n",
       "      <td>1.0</td>\n",
       "      <td>3.421500</td>\n",
       "      <td>1.000000</td>\n",
       "      <td>NaN</td>\n",
       "      <td>...</td>\n",
       "      <td>-1.471000</td>\n",
       "      <td>0.800000</td>\n",
       "      <td>1.067000</td>\n",
       "      <td>2.133000</td>\n",
       "      <td>0.195000</td>\n",
       "      <td>0.876000</td>\n",
       "      <td>1.088000</td>\n",
       "      <td>0.480000</td>\n",
       "      <td>0.844000</td>\n",
       "      <td>1.331000</td>\n",
       "    </tr>\n",
       "    <tr>\n",
       "      <th>50%</th>\n",
       "      <td>245504.000000</td>\n",
       "      <td>2003.0</td>\n",
       "      <td>81.131000</td>\n",
       "      <td>33.442000</td>\n",
       "      <td>0.000000</td>\n",
       "      <td>387.021000</td>\n",
       "      <td>1.0</td>\n",
       "      <td>3.914000</td>\n",
       "      <td>1.000000</td>\n",
       "      <td>NaN</td>\n",
       "      <td>...</td>\n",
       "      <td>-0.572000</td>\n",
       "      <td>1.067000</td>\n",
       "      <td>1.333000</td>\n",
       "      <td>2.133000</td>\n",
       "      <td>0.204000</td>\n",
       "      <td>0.921000</td>\n",
       "      <td>1.128000</td>\n",
       "      <td>0.488000</td>\n",
       "      <td>0.897000</td>\n",
       "      <td>1.387000</td>\n",
       "    </tr>\n",
       "    <tr>\n",
       "      <th>75%</th>\n",
       "      <td>311330.000000</td>\n",
       "      <td>2003.0</td>\n",
       "      <td>88.561000</td>\n",
       "      <td>44.535000</td>\n",
       "      <td>0.000000</td>\n",
       "      <td>427.029500</td>\n",
       "      <td>1.0</td>\n",
       "      <td>4.598000</td>\n",
       "      <td>1.000000</td>\n",
       "      <td>NaN</td>\n",
       "      <td>...</td>\n",
       "      <td>0.050000</td>\n",
       "      <td>1.067000</td>\n",
       "      <td>1.333000</td>\n",
       "      <td>2.400000</td>\n",
       "      <td>0.213000</td>\n",
       "      <td>0.952000</td>\n",
       "      <td>1.149000</td>\n",
       "      <td>0.497000</td>\n",
       "      <td>0.975000</td>\n",
       "      <td>1.462000</td>\n",
       "    </tr>\n",
       "    <tr>\n",
       "      <th>max</th>\n",
       "      <td>494482.000000</td>\n",
       "      <td>2003.0</td>\n",
       "      <td>171.512000</td>\n",
       "      <td>83.454000</td>\n",
       "      <td>1.000000</td>\n",
       "      <td>534.764000</td>\n",
       "      <td>1.0</td>\n",
       "      <td>16.695000</td>\n",
       "      <td>8.000000</td>\n",
       "      <td>NaN</td>\n",
       "      <td>...</td>\n",
       "      <td>1.843000</td>\n",
       "      <td>1.902000</td>\n",
       "      <td>1.867000</td>\n",
       "      <td>3.564000</td>\n",
       "      <td>0.249000</td>\n",
       "      <td>1.047000</td>\n",
       "      <td>1.262000</td>\n",
       "      <td>0.519000</td>\n",
       "      <td>1.266000</td>\n",
       "      <td>1.753000</td>\n",
       "    </tr>\n",
       "  </tbody>\n",
       "</table>\n",
       "<p>8 rows × 84 columns</p>\n",
       "</div>"
      ],
      "text/plain": [
       "                 pix     year  for_age_2003  for_con_2003       for_pro  \\\n",
       "count   11671.000000  11671.0  11069.000000  11069.000000  11671.000000   \n",
       "mean   212179.787336   2003.0     81.493424     35.188861      0.144289   \n",
       "std    144574.185640      0.0     12.031176     14.137996      0.351398   \n",
       "min       503.000000   2003.0      1.977000      0.951000      0.000000   \n",
       "25%     62242.500000   2003.0     73.923000     24.071000      0.000000   \n",
       "50%    245504.000000   2003.0     81.131000     33.442000      0.000000   \n",
       "75%    311330.000000   2003.0     88.561000     44.535000      0.000000   \n",
       "max    494482.000000   2003.0    171.512000     83.454000      1.000000   \n",
       "\n",
       "               elev  p1_trend  p1_trend_slope  trend_20yrs  \\\n",
       "count  11615.000000   11671.0    11671.000000  4372.000000   \n",
       "mean     376.156902       1.0        4.130047     1.805124   \n",
       "std       71.712896       0.0        1.026748     1.707907   \n",
       "min      128.690000       1.0        2.263000     1.000000   \n",
       "25%      341.859500       1.0        3.421500     1.000000   \n",
       "50%      387.021000       1.0        3.914000     1.000000   \n",
       "75%      427.029500       1.0        4.598000     1.000000   \n",
       "max      534.764000       1.0       16.695000     8.000000   \n",
       "\n",
       "       delta_for_age_lag3  ...  max_cmi_sm_rel30_reg  dd5_wt_nrange30_reg  \\\n",
       "count                 0.0  ...          11615.000000         11615.000000   \n",
       "mean                  NaN  ...             -0.664537             1.004187   \n",
       "std                   NaN  ...              0.967256             0.236738   \n",
       "min                   NaN  ...             -2.923000             0.533000   \n",
       "25%                   NaN  ...             -1.471000             0.800000   \n",
       "50%                   NaN  ...             -0.572000             1.067000   \n",
       "75%                   NaN  ...              0.050000             1.067000   \n",
       "max                   NaN  ...              1.843000             1.902000   \n",
       "\n",
       "       min_dd5_wt_rel30_reg  max_dd5_wt_rel30_reg  map_nrange30_reg  \\\n",
       "count          11615.000000          11615.000000      11615.000000   \n",
       "mean               1.248617              2.252648          0.205940   \n",
       "std                0.180552              0.360143          0.014839   \n",
       "min                1.067000              1.600000          0.174000   \n",
       "25%                1.067000              2.133000          0.195000   \n",
       "50%                1.333000              2.133000          0.204000   \n",
       "75%                1.333000              2.400000          0.213000   \n",
       "max                1.867000              3.564000          0.249000   \n",
       "\n",
       "       min_map_rel30_reg  max_map_rel30_reg  mat_nrange30_reg  \\\n",
       "count       11615.000000       11615.000000      11615.000000   \n",
       "mean            0.917234           1.123171          0.488299   \n",
       "std             0.053042           0.042362          0.008940   \n",
       "min             0.797000           1.029000          0.462000   \n",
       "25%             0.876000           1.088000          0.480000   \n",
       "50%             0.921000           1.128000          0.488000   \n",
       "75%             0.952000           1.149000          0.497000   \n",
       "max             1.047000           1.262000          0.519000   \n",
       "\n",
       "       min_mat_rel30_reg  max_mat_rel30_reg  \n",
       "count       11615.000000       11615.000000  \n",
       "mean            0.919343           1.407663  \n",
       "std             0.108270           0.107471  \n",
       "min             0.672000           1.161000  \n",
       "25%             0.844000           1.331000  \n",
       "50%             0.897000           1.387000  \n",
       "75%             0.975000           1.462000  \n",
       "max             1.266000           1.753000  \n",
       "\n",
       "[8 rows x 84 columns]"
      ]
     },
     "execution_count": 122,
     "metadata": {},
     "output_type": "execute_result"
    }
   ],
   "source": [
    "# dataframe dimensions\n",
    "df1.describe()\n",
    "#print(df1.describe)\n",
    "# show all column names\n",
    "#print(df1.columns.tolist())"
   ]
  },
  {
   "cell_type": "code",
   "execution_count": 17,
   "id": "aad3f4d4",
   "metadata": {},
   "outputs": [],
   "source": [
    "#df1[\"rad_sm\"].describe() # remove rad vars given the -9999 nffd_wt\n",
    "#df1[\"nffd_wt\"].describe() # remove rad vars given the small range 0 to 2."
   ]
  },
  {
   "cell_type": "code",
   "execution_count": 123,
   "id": "09bacfbf",
   "metadata": {},
   "outputs": [
    {
     "data": {
      "text/plain": [
       "(11671, 84)"
      ]
     },
     "execution_count": 123,
     "metadata": {},
     "output_type": "execute_result"
    }
   ],
   "source": [
    "# dataframe dimensions\n",
    "df1.shape"
   ]
  },
  {
   "cell_type": "code",
   "execution_count": 124,
   "id": "6c2a8793",
   "metadata": {},
   "outputs": [
    {
     "data": {
      "text/html": [
       "<div>\n",
       "<style scoped>\n",
       "    .dataframe tbody tr th:only-of-type {\n",
       "        vertical-align: middle;\n",
       "    }\n",
       "\n",
       "    .dataframe tbody tr th {\n",
       "        vertical-align: top;\n",
       "    }\n",
       "\n",
       "    .dataframe thead th {\n",
       "        text-align: right;\n",
       "    }\n",
       "</style>\n",
       "<table border=\"1\" class=\"dataframe\">\n",
       "  <thead>\n",
       "    <tr style=\"text-align: right;\">\n",
       "      <th></th>\n",
       "      <th>for_age_2003</th>\n",
       "      <th>for_con_2003</th>\n",
       "      <th>delta_cmi_sm_lag3</th>\n",
       "      <th>delta_dd5_wt_lag3</th>\n",
       "      <th>avg_for_age</th>\n",
       "      <th>avg_for_con</th>\n",
       "      <th>avg_cmi_sm</th>\n",
       "      <th>avg_dd5_wt</th>\n",
       "      <th>min_cmi_sm</th>\n",
       "      <th>min_dd5_wt</th>\n",
       "      <th>...</th>\n",
       "      <th>max_cmi_sm_rel30_reg</th>\n",
       "      <th>dd5_wt_nrange30_reg</th>\n",
       "      <th>min_dd5_wt_rel30_reg</th>\n",
       "      <th>max_dd5_wt_rel30_reg</th>\n",
       "      <th>map_nrange30_reg</th>\n",
       "      <th>min_map_rel30_reg</th>\n",
       "      <th>max_map_rel30_reg</th>\n",
       "      <th>mat_nrange30_reg</th>\n",
       "      <th>min_mat_rel30_reg</th>\n",
       "      <th>max_mat_rel30_reg</th>\n",
       "    </tr>\n",
       "  </thead>\n",
       "  <tbody>\n",
       "    <tr>\n",
       "      <th>11666</th>\n",
       "      <td>71.136</td>\n",
       "      <td>39.144</td>\n",
       "      <td>-6.800</td>\n",
       "      <td>0.0</td>\n",
       "      <td>70.999</td>\n",
       "      <td>46.926</td>\n",
       "      <td>-2.383</td>\n",
       "      <td>4.600</td>\n",
       "      <td>-11.872</td>\n",
       "      <td>4.0</td>\n",
       "      <td>...</td>\n",
       "      <td>-1.581</td>\n",
       "      <td>0.533</td>\n",
       "      <td>1.067</td>\n",
       "      <td>1.600</td>\n",
       "      <td>0.213</td>\n",
       "      <td>0.924</td>\n",
       "      <td>1.137</td>\n",
       "      <td>0.498</td>\n",
       "      <td>0.742</td>\n",
       "      <td>1.240</td>\n",
       "    </tr>\n",
       "    <tr>\n",
       "      <th>11667</th>\n",
       "      <td>75.871</td>\n",
       "      <td>55.116</td>\n",
       "      <td>-7.230</td>\n",
       "      <td>0.0</td>\n",
       "      <td>73.401</td>\n",
       "      <td>52.175</td>\n",
       "      <td>-2.890</td>\n",
       "      <td>5.199</td>\n",
       "      <td>-12.006</td>\n",
       "      <td>4.0</td>\n",
       "      <td>...</td>\n",
       "      <td>-1.508</td>\n",
       "      <td>1.065</td>\n",
       "      <td>1.067</td>\n",
       "      <td>2.132</td>\n",
       "      <td>0.198</td>\n",
       "      <td>0.929</td>\n",
       "      <td>1.127</td>\n",
       "      <td>0.501</td>\n",
       "      <td>0.871</td>\n",
       "      <td>1.372</td>\n",
       "    </tr>\n",
       "    <tr>\n",
       "      <th>11668</th>\n",
       "      <td>76.721</td>\n",
       "      <td>19.521</td>\n",
       "      <td>-10.035</td>\n",
       "      <td>0.0</td>\n",
       "      <td>78.441</td>\n",
       "      <td>21.695</td>\n",
       "      <td>-4.295</td>\n",
       "      <td>6.199</td>\n",
       "      <td>-12.487</td>\n",
       "      <td>5.0</td>\n",
       "      <td>...</td>\n",
       "      <td>-0.281</td>\n",
       "      <td>1.059</td>\n",
       "      <td>1.333</td>\n",
       "      <td>2.392</td>\n",
       "      <td>0.218</td>\n",
       "      <td>0.875</td>\n",
       "      <td>1.093</td>\n",
       "      <td>0.501</td>\n",
       "      <td>0.951</td>\n",
       "      <td>1.452</td>\n",
       "    </tr>\n",
       "    <tr>\n",
       "      <th>11669</th>\n",
       "      <td>85.136</td>\n",
       "      <td>20.453</td>\n",
       "      <td>-4.301</td>\n",
       "      <td>-1.0</td>\n",
       "      <td>86.581</td>\n",
       "      <td>18.699</td>\n",
       "      <td>-5.819</td>\n",
       "      <td>5.400</td>\n",
       "      <td>-16.023</td>\n",
       "      <td>4.0</td>\n",
       "      <td>...</td>\n",
       "      <td>0.354</td>\n",
       "      <td>1.067</td>\n",
       "      <td>1.067</td>\n",
       "      <td>2.133</td>\n",
       "      <td>0.242</td>\n",
       "      <td>0.818</td>\n",
       "      <td>1.061</td>\n",
       "      <td>0.482</td>\n",
       "      <td>1.074</td>\n",
       "      <td>1.556</td>\n",
       "    </tr>\n",
       "    <tr>\n",
       "      <th>11670</th>\n",
       "      <td>80.651</td>\n",
       "      <td>34.482</td>\n",
       "      <td>-9.331</td>\n",
       "      <td>0.0</td>\n",
       "      <td>80.972</td>\n",
       "      <td>34.704</td>\n",
       "      <td>-4.139</td>\n",
       "      <td>5.800</td>\n",
       "      <td>-12.637</td>\n",
       "      <td>5.0</td>\n",
       "      <td>...</td>\n",
       "      <td>-0.482</td>\n",
       "      <td>0.800</td>\n",
       "      <td>1.333</td>\n",
       "      <td>2.133</td>\n",
       "      <td>0.217</td>\n",
       "      <td>0.872</td>\n",
       "      <td>1.089</td>\n",
       "      <td>0.475</td>\n",
       "      <td>0.898</td>\n",
       "      <td>1.374</td>\n",
       "    </tr>\n",
       "  </tbody>\n",
       "</table>\n",
       "<p>5 rows × 60 columns</p>\n",
       "</div>"
      ],
      "text/plain": [
       "       for_age_2003  for_con_2003  delta_cmi_sm_lag3  delta_dd5_wt_lag3  \\\n",
       "11666        71.136        39.144             -6.800                0.0   \n",
       "11667        75.871        55.116             -7.230                0.0   \n",
       "11668        76.721        19.521            -10.035                0.0   \n",
       "11669        85.136        20.453             -4.301               -1.0   \n",
       "11670        80.651        34.482             -9.331                0.0   \n",
       "\n",
       "       avg_for_age  avg_for_con  avg_cmi_sm  avg_dd5_wt  min_cmi_sm  \\\n",
       "11666       70.999       46.926      -2.383       4.600     -11.872   \n",
       "11667       73.401       52.175      -2.890       5.199     -12.006   \n",
       "11668       78.441       21.695      -4.295       6.199     -12.487   \n",
       "11669       86.581       18.699      -5.819       5.400     -16.023   \n",
       "11670       80.972       34.704      -4.139       5.800     -12.637   \n",
       "\n",
       "       min_dd5_wt  ...  max_cmi_sm_rel30_reg  dd5_wt_nrange30_reg  \\\n",
       "11666         4.0  ...                -1.581                0.533   \n",
       "11667         4.0  ...                -1.508                1.065   \n",
       "11668         5.0  ...                -0.281                1.059   \n",
       "11669         4.0  ...                 0.354                1.067   \n",
       "11670         5.0  ...                -0.482                0.800   \n",
       "\n",
       "       min_dd5_wt_rel30_reg  max_dd5_wt_rel30_reg  map_nrange30_reg  \\\n",
       "11666                 1.067                 1.600             0.213   \n",
       "11667                 1.067                 2.132             0.198   \n",
       "11668                 1.333                 2.392             0.218   \n",
       "11669                 1.067                 2.133             0.242   \n",
       "11670                 1.333                 2.133             0.217   \n",
       "\n",
       "       min_map_rel30_reg  max_map_rel30_reg  mat_nrange30_reg  \\\n",
       "11666              0.924              1.137             0.498   \n",
       "11667              0.929              1.127             0.501   \n",
       "11668              0.875              1.093             0.501   \n",
       "11669              0.818              1.061             0.482   \n",
       "11670              0.872              1.089             0.475   \n",
       "\n",
       "       min_mat_rel30_reg  max_mat_rel30_reg  \n",
       "11666              0.742              1.240  \n",
       "11667              0.871              1.372  \n",
       "11668              0.951              1.452  \n",
       "11669              1.074              1.556  \n",
       "11670              0.898              1.374  \n",
       "\n",
       "[5 rows x 60 columns]"
      ]
     },
     "execution_count": 124,
     "metadata": {},
     "output_type": "execute_result"
    }
   ],
   "source": [
    "# Subset the data to run VIF function below\n",
    "\n",
    "# create non-protected dummy variable \n",
    "#X1 = pd.get_dummies(df1, columns=['for_pro'], dtype=float)\n",
    "\n",
    "# Remove records where precipitation is null. To check why map vals have NAs\n",
    "#df2= df2[df2['map'].notna()]\n",
    "\n",
    "#X1 = X1.iloc[:,11:]\n",
    "X1 = df1\n",
    "\n",
    "# Drop response variables, driver matched data, and categorical data as these are not useful for VIF\n",
    "# for Period 1 I leave out forest lag vars as these have not values. For other periods this shouldn't be the case.\n",
    "#X1.drop(X1.columns[[0,1,4,5,6,7,8,9,10,11,12,13,14,17,18,25,26,27,28,29,30,31,32,33,34,35]], axis=1, inplace=True)\n",
    "X1.drop(X1.columns[[0,1,4,5,6,7,8,9,10,21,22,25,26,33,34,35,36,37,38,39,40,41,42,43]], axis=1, inplace=True)\n",
    "\n",
    "#These variables have way too many NULLS, so I need to drop them. The nulls in these variables are -9999. By dropping them I solved the problem of potentila bias with -9999 values\n",
    "#X1.drop([\"rad_sm\",  \"rad_sm_lag1\",  \"rad_sm_lag2\", \"rad_sm_lag3\",\"rad_wt\", \"rad_wt_lag1\", \"rad_wt_lag2\", \"rad_wt_lag3\"], axis = 1, inplace = True)\n",
    "\n",
    "#replace -9999.0000\n",
    "#X1.replace(-9999.0, nan, inplace=True)\n",
    "\n",
    "# drop rows with NAs\n",
    "X1.tail()\n",
    "# 5 rows × 143 columns\n",
    "\n"
   ]
  },
  {
   "cell_type": "code",
   "execution_count": 125,
   "id": "68577ee2",
   "metadata": {},
   "outputs": [
    {
     "data": {
      "text/plain": [
       "['for_age_2003',\n",
       " 'for_con_2003',\n",
       " 'delta_cmi_sm_lag3',\n",
       " 'delta_dd5_wt_lag3',\n",
       " 'avg_for_age',\n",
       " 'avg_for_con',\n",
       " 'avg_cmi_sm',\n",
       " 'avg_dd5_wt',\n",
       " 'min_cmi_sm',\n",
       " 'min_dd5_wt',\n",
       " 'max_cmi_sm',\n",
       " 'max_dd5_wt',\n",
       " 'delta_cmi_sm_lag2',\n",
       " 'delta_dd5_wt_lag2',\n",
       " 'delta_cmi_sm_lag1',\n",
       " 'delta_dd5_wt_lag1',\n",
       " 'delta_for_age',\n",
       " 'delta_for_con',\n",
       " 'delta_cmi_sm',\n",
       " 'delta_dd5_wt',\n",
       " 'cmi_sm_nrange',\n",
       " 'dd5_wt_nrange',\n",
       " 'min_cmi_sm_rel',\n",
       " 'max_cmi_sm_rel',\n",
       " 'min_dd5_wt_rel',\n",
       " 'max_dd5_wt_rel',\n",
       " 'map_nrange',\n",
       " 'mat_nrange',\n",
       " 'min_map_rel',\n",
       " 'max_map_rel',\n",
       " 'min_mat_rel',\n",
       " 'max_mat_rel',\n",
       " 'cmi_sm_cv',\n",
       " 'dd5_wt_cv',\n",
       " 'cmi_sm_cqv',\n",
       " 'dd5_wt_cqv',\n",
       " 'cmi_sm_nrange30',\n",
       " 'min_cmi_sm_rel30',\n",
       " 'max_cmi_sm_rel30',\n",
       " 'dd5_wt_nrange30',\n",
       " 'min_dd5_wt_rel30',\n",
       " 'max_dd5_wt_rel30',\n",
       " 'map_nrange30',\n",
       " 'min_map_rel30',\n",
       " 'max_map_rel30',\n",
       " 'mat_nrange30',\n",
       " 'min_mat_rel30',\n",
       " 'max_mat_rel30',\n",
       " 'cmi_sm_nrange30_reg',\n",
       " 'min_cmi_sm_rel30_reg',\n",
       " 'max_cmi_sm_rel30_reg',\n",
       " 'dd5_wt_nrange30_reg',\n",
       " 'min_dd5_wt_rel30_reg',\n",
       " 'max_dd5_wt_rel30_reg',\n",
       " 'map_nrange30_reg',\n",
       " 'min_map_rel30_reg',\n",
       " 'max_map_rel30_reg',\n",
       " 'mat_nrange30_reg',\n",
       " 'min_mat_rel30_reg',\n",
       " 'max_mat_rel30_reg']"
      ]
     },
     "execution_count": 125,
     "metadata": {},
     "output_type": "execute_result"
    }
   ],
   "source": [
    "#X1 = df1[['map', 'mat']]\n",
    "# Count NAs per columns\n",
    "#X1.isna().sum()\n",
    "list(X1)"
   ]
  },
  {
   "cell_type": "code",
   "execution_count": 126,
   "id": "4fac09df",
   "metadata": {
    "scrolled": true
   },
   "outputs": [
    {
     "data": {
      "text/html": [
       "<div>\n",
       "<style scoped>\n",
       "    .dataframe tbody tr th:only-of-type {\n",
       "        vertical-align: middle;\n",
       "    }\n",
       "\n",
       "    .dataframe tbody tr th {\n",
       "        vertical-align: top;\n",
       "    }\n",
       "\n",
       "    .dataframe thead th {\n",
       "        text-align: right;\n",
       "    }\n",
       "</style>\n",
       "<table border=\"1\" class=\"dataframe\">\n",
       "  <thead>\n",
       "    <tr style=\"text-align: right;\">\n",
       "      <th></th>\n",
       "      <th>for_age_2003</th>\n",
       "      <th>for_con_2003</th>\n",
       "      <th>delta_cmi_sm_lag3</th>\n",
       "      <th>delta_dd5_wt_lag3</th>\n",
       "      <th>avg_for_age</th>\n",
       "      <th>avg_for_con</th>\n",
       "      <th>avg_cmi_sm</th>\n",
       "      <th>avg_dd5_wt</th>\n",
       "      <th>min_cmi_sm</th>\n",
       "      <th>min_dd5_wt</th>\n",
       "      <th>...</th>\n",
       "      <th>max_cmi_sm_rel30_reg</th>\n",
       "      <th>dd5_wt_nrange30_reg</th>\n",
       "      <th>min_dd5_wt_rel30_reg</th>\n",
       "      <th>max_dd5_wt_rel30_reg</th>\n",
       "      <th>map_nrange30_reg</th>\n",
       "      <th>min_map_rel30_reg</th>\n",
       "      <th>max_map_rel30_reg</th>\n",
       "      <th>mat_nrange30_reg</th>\n",
       "      <th>min_mat_rel30_reg</th>\n",
       "      <th>max_mat_rel30_reg</th>\n",
       "    </tr>\n",
       "  </thead>\n",
       "  <tbody>\n",
       "    <tr>\n",
       "      <th>count</th>\n",
       "      <td>11069.000000</td>\n",
       "      <td>11069.000000</td>\n",
       "      <td>11615.000000</td>\n",
       "      <td>11615.000000</td>\n",
       "      <td>11069.000000</td>\n",
       "      <td>11069.000000</td>\n",
       "      <td>11615.000000</td>\n",
       "      <td>11615.000000</td>\n",
       "      <td>11615.000000</td>\n",
       "      <td>11615.000000</td>\n",
       "      <td>...</td>\n",
       "      <td>11615.000000</td>\n",
       "      <td>11615.000000</td>\n",
       "      <td>11615.000000</td>\n",
       "      <td>11615.000000</td>\n",
       "      <td>11615.000000</td>\n",
       "      <td>11615.000000</td>\n",
       "      <td>11615.000000</td>\n",
       "      <td>11615.000000</td>\n",
       "      <td>11615.000000</td>\n",
       "      <td>11615.000000</td>\n",
       "    </tr>\n",
       "    <tr>\n",
       "      <th>mean</th>\n",
       "      <td>81.493424</td>\n",
       "      <td>35.188861</td>\n",
       "      <td>-9.109261</td>\n",
       "      <td>-0.160352</td>\n",
       "      <td>82.966582</td>\n",
       "      <td>34.921721</td>\n",
       "      <td>-3.614359</td>\n",
       "      <td>5.926903</td>\n",
       "      <td>-11.629278</td>\n",
       "      <td>4.682313</td>\n",
       "      <td>...</td>\n",
       "      <td>-0.664537</td>\n",
       "      <td>1.004187</td>\n",
       "      <td>1.248617</td>\n",
       "      <td>2.252648</td>\n",
       "      <td>0.205940</td>\n",
       "      <td>0.917234</td>\n",
       "      <td>1.123171</td>\n",
       "      <td>0.488299</td>\n",
       "      <td>0.919343</td>\n",
       "      <td>1.407663</td>\n",
       "    </tr>\n",
       "    <tr>\n",
       "      <th>std</th>\n",
       "      <td>12.031176</td>\n",
       "      <td>14.137996</td>\n",
       "      <td>2.299218</td>\n",
       "      <td>0.366208</td>\n",
       "      <td>11.314518</td>\n",
       "      <td>13.670663</td>\n",
       "      <td>1.421038</td>\n",
       "      <td>0.855677</td>\n",
       "      <td>1.895980</td>\n",
       "      <td>0.677859</td>\n",
       "      <td>...</td>\n",
       "      <td>0.967256</td>\n",
       "      <td>0.236738</td>\n",
       "      <td>0.180552</td>\n",
       "      <td>0.360143</td>\n",
       "      <td>0.014839</td>\n",
       "      <td>0.053042</td>\n",
       "      <td>0.042362</td>\n",
       "      <td>0.008940</td>\n",
       "      <td>0.108270</td>\n",
       "      <td>0.107471</td>\n",
       "    </tr>\n",
       "    <tr>\n",
       "      <th>min</th>\n",
       "      <td>1.977000</td>\n",
       "      <td>0.951000</td>\n",
       "      <td>-13.617000</td>\n",
       "      <td>-1.000000</td>\n",
       "      <td>2.953000</td>\n",
       "      <td>1.403000</td>\n",
       "      <td>-7.871000</td>\n",
       "      <td>4.600000</td>\n",
       "      <td>-17.269000</td>\n",
       "      <td>4.000000</td>\n",
       "      <td>...</td>\n",
       "      <td>-2.923000</td>\n",
       "      <td>0.533000</td>\n",
       "      <td>1.067000</td>\n",
       "      <td>1.600000</td>\n",
       "      <td>0.174000</td>\n",
       "      <td>0.797000</td>\n",
       "      <td>1.029000</td>\n",
       "      <td>0.462000</td>\n",
       "      <td>0.672000</td>\n",
       "      <td>1.161000</td>\n",
       "    </tr>\n",
       "    <tr>\n",
       "      <th>25%</th>\n",
       "      <td>73.923000</td>\n",
       "      <td>24.071000</td>\n",
       "      <td>-10.921500</td>\n",
       "      <td>0.000000</td>\n",
       "      <td>75.766000</td>\n",
       "      <td>24.046000</td>\n",
       "      <td>-4.570000</td>\n",
       "      <td>5.400000</td>\n",
       "      <td>-12.345000</td>\n",
       "      <td>4.000000</td>\n",
       "      <td>...</td>\n",
       "      <td>-1.471000</td>\n",
       "      <td>0.800000</td>\n",
       "      <td>1.067000</td>\n",
       "      <td>2.133000</td>\n",
       "      <td>0.195000</td>\n",
       "      <td>0.876000</td>\n",
       "      <td>1.088000</td>\n",
       "      <td>0.480000</td>\n",
       "      <td>0.844000</td>\n",
       "      <td>1.331000</td>\n",
       "    </tr>\n",
       "    <tr>\n",
       "      <th>50%</th>\n",
       "      <td>81.131000</td>\n",
       "      <td>33.442000</td>\n",
       "      <td>-9.595000</td>\n",
       "      <td>0.000000</td>\n",
       "      <td>82.670000</td>\n",
       "      <td>33.349000</td>\n",
       "      <td>-3.365000</td>\n",
       "      <td>5.800000</td>\n",
       "      <td>-11.164000</td>\n",
       "      <td>5.000000</td>\n",
       "      <td>...</td>\n",
       "      <td>-0.572000</td>\n",
       "      <td>1.067000</td>\n",
       "      <td>1.333000</td>\n",
       "      <td>2.133000</td>\n",
       "      <td>0.204000</td>\n",
       "      <td>0.921000</td>\n",
       "      <td>1.128000</td>\n",
       "      <td>0.488000</td>\n",
       "      <td>0.897000</td>\n",
       "      <td>1.387000</td>\n",
       "    </tr>\n",
       "    <tr>\n",
       "      <th>75%</th>\n",
       "      <td>88.561000</td>\n",
       "      <td>44.535000</td>\n",
       "      <td>-7.081000</td>\n",
       "      <td>0.000000</td>\n",
       "      <td>89.704000</td>\n",
       "      <td>44.037000</td>\n",
       "      <td>-2.556000</td>\n",
       "      <td>6.200000</td>\n",
       "      <td>-10.319000</td>\n",
       "      <td>5.000000</td>\n",
       "      <td>...</td>\n",
       "      <td>0.050000</td>\n",
       "      <td>1.067000</td>\n",
       "      <td>1.333000</td>\n",
       "      <td>2.400000</td>\n",
       "      <td>0.213000</td>\n",
       "      <td>0.952000</td>\n",
       "      <td>1.149000</td>\n",
       "      <td>0.497000</td>\n",
       "      <td>0.975000</td>\n",
       "      <td>1.462000</td>\n",
       "    </tr>\n",
       "    <tr>\n",
       "      <th>max</th>\n",
       "      <td>171.512000</td>\n",
       "      <td>83.454000</td>\n",
       "      <td>-3.100000</td>\n",
       "      <td>1.000000</td>\n",
       "      <td>174.480000</td>\n",
       "      <td>83.483000</td>\n",
       "      <td>-0.685000</td>\n",
       "      <td>9.073000</td>\n",
       "      <td>-8.024000</td>\n",
       "      <td>7.000000</td>\n",
       "      <td>...</td>\n",
       "      <td>1.843000</td>\n",
       "      <td>1.902000</td>\n",
       "      <td>1.867000</td>\n",
       "      <td>3.564000</td>\n",
       "      <td>0.249000</td>\n",
       "      <td>1.047000</td>\n",
       "      <td>1.262000</td>\n",
       "      <td>0.519000</td>\n",
       "      <td>1.266000</td>\n",
       "      <td>1.753000</td>\n",
       "    </tr>\n",
       "  </tbody>\n",
       "</table>\n",
       "<p>8 rows × 60 columns</p>\n",
       "</div>"
      ],
      "text/plain": [
       "       for_age_2003  for_con_2003  delta_cmi_sm_lag3  delta_dd5_wt_lag3  \\\n",
       "count  11069.000000  11069.000000       11615.000000       11615.000000   \n",
       "mean      81.493424     35.188861          -9.109261          -0.160352   \n",
       "std       12.031176     14.137996           2.299218           0.366208   \n",
       "min        1.977000      0.951000         -13.617000          -1.000000   \n",
       "25%       73.923000     24.071000         -10.921500           0.000000   \n",
       "50%       81.131000     33.442000          -9.595000           0.000000   \n",
       "75%       88.561000     44.535000          -7.081000           0.000000   \n",
       "max      171.512000     83.454000          -3.100000           1.000000   \n",
       "\n",
       "        avg_for_age   avg_for_con    avg_cmi_sm    avg_dd5_wt    min_cmi_sm  \\\n",
       "count  11069.000000  11069.000000  11615.000000  11615.000000  11615.000000   \n",
       "mean      82.966582     34.921721     -3.614359      5.926903    -11.629278   \n",
       "std       11.314518     13.670663      1.421038      0.855677      1.895980   \n",
       "min        2.953000      1.403000     -7.871000      4.600000    -17.269000   \n",
       "25%       75.766000     24.046000     -4.570000      5.400000    -12.345000   \n",
       "50%       82.670000     33.349000     -3.365000      5.800000    -11.164000   \n",
       "75%       89.704000     44.037000     -2.556000      6.200000    -10.319000   \n",
       "max      174.480000     83.483000     -0.685000      9.073000     -8.024000   \n",
       "\n",
       "         min_dd5_wt  ...  max_cmi_sm_rel30_reg  dd5_wt_nrange30_reg  \\\n",
       "count  11615.000000  ...          11615.000000         11615.000000   \n",
       "mean       4.682313  ...             -0.664537             1.004187   \n",
       "std        0.677859  ...              0.967256             0.236738   \n",
       "min        4.000000  ...             -2.923000             0.533000   \n",
       "25%        4.000000  ...             -1.471000             0.800000   \n",
       "50%        5.000000  ...             -0.572000             1.067000   \n",
       "75%        5.000000  ...              0.050000             1.067000   \n",
       "max        7.000000  ...              1.843000             1.902000   \n",
       "\n",
       "       min_dd5_wt_rel30_reg  max_dd5_wt_rel30_reg  map_nrange30_reg  \\\n",
       "count          11615.000000          11615.000000      11615.000000   \n",
       "mean               1.248617              2.252648          0.205940   \n",
       "std                0.180552              0.360143          0.014839   \n",
       "min                1.067000              1.600000          0.174000   \n",
       "25%                1.067000              2.133000          0.195000   \n",
       "50%                1.333000              2.133000          0.204000   \n",
       "75%                1.333000              2.400000          0.213000   \n",
       "max                1.867000              3.564000          0.249000   \n",
       "\n",
       "       min_map_rel30_reg  max_map_rel30_reg  mat_nrange30_reg  \\\n",
       "count       11615.000000       11615.000000      11615.000000   \n",
       "mean            0.917234           1.123171          0.488299   \n",
       "std             0.053042           0.042362          0.008940   \n",
       "min             0.797000           1.029000          0.462000   \n",
       "25%             0.876000           1.088000          0.480000   \n",
       "50%             0.921000           1.128000          0.488000   \n",
       "75%             0.952000           1.149000          0.497000   \n",
       "max             1.047000           1.262000          0.519000   \n",
       "\n",
       "       min_mat_rel30_reg  max_mat_rel30_reg  \n",
       "count       11615.000000       11615.000000  \n",
       "mean            0.919343           1.407663  \n",
       "std             0.108270           0.107471  \n",
       "min             0.672000           1.161000  \n",
       "25%             0.844000           1.331000  \n",
       "50%             0.897000           1.387000  \n",
       "75%             0.975000           1.462000  \n",
       "max             1.266000           1.753000  \n",
       "\n",
       "[8 rows x 60 columns]"
      ]
     },
     "execution_count": 126,
     "metadata": {},
     "output_type": "execute_result"
    }
   ],
   "source": [
    "X1.describe()"
   ]
  },
  {
   "cell_type": "code",
   "execution_count": 127,
   "id": "e2fa55b9",
   "metadata": {},
   "outputs": [],
   "source": [
    "#X1['nffd_wt'].describe() # range: 0-2\n",
    "#X1['nffd_wt'].describe() # range: 0-2\n",
    "#X1['cmi_sm'].describe()\n",
    "#X10 = X1.loc[(X1['min_cmi_sm_rel30'] >= -100)]\n",
    "#X10.describe()\n",
    "\n",
    "#df0 = df11.loc[(df11['for_age_2003'] >= 0) & (df11['elev'] > 0)]"
   ]
  },
  {
   "cell_type": "code",
   "execution_count": 128,
   "id": "5ffd668b",
   "metadata": {},
   "outputs": [
    {
     "data": {
      "text/plain": [
       "(11671, 60)"
      ]
     },
     "execution_count": 128,
     "metadata": {},
     "output_type": "execute_result"
    }
   ],
   "source": [
    "# dataframe dimensions\n",
    "X1.shape"
   ]
  },
  {
   "cell_type": "code",
   "execution_count": 129,
   "id": "b8693492",
   "metadata": {},
   "outputs": [
    {
     "data": {
      "text/plain": [
       "for_age_2003            602\n",
       "for_con_2003            602\n",
       "delta_cmi_sm_lag3        56\n",
       "delta_dd5_wt_lag3        56\n",
       "avg_for_age             602\n",
       "avg_for_con             602\n",
       "avg_cmi_sm               56\n",
       "avg_dd5_wt               56\n",
       "min_cmi_sm               56\n",
       "min_dd5_wt               56\n",
       "max_cmi_sm               56\n",
       "max_dd5_wt               56\n",
       "delta_cmi_sm_lag2        56\n",
       "delta_dd5_wt_lag2        56\n",
       "delta_cmi_sm_lag1        56\n",
       "delta_dd5_wt_lag1        56\n",
       "delta_for_age           602\n",
       "delta_for_con           602\n",
       "delta_cmi_sm             56\n",
       "delta_dd5_wt             56\n",
       "cmi_sm_nrange            56\n",
       "dd5_wt_nrange            56\n",
       "min_cmi_sm_rel           56\n",
       "max_cmi_sm_rel           56\n",
       "min_dd5_wt_rel           56\n",
       "max_dd5_wt_rel           56\n",
       "map_nrange               56\n",
       "mat_nrange               56\n",
       "min_map_rel              56\n",
       "max_map_rel              56\n",
       "min_mat_rel              56\n",
       "max_mat_rel              56\n",
       "cmi_sm_cv                56\n",
       "dd5_wt_cv                56\n",
       "cmi_sm_cqv               56\n",
       "dd5_wt_cqv               56\n",
       "cmi_sm_nrange30          56\n",
       "min_cmi_sm_rel30         56\n",
       "max_cmi_sm_rel30         56\n",
       "dd5_wt_nrange30          56\n",
       "min_dd5_wt_rel30         56\n",
       "max_dd5_wt_rel30         56\n",
       "map_nrange30             56\n",
       "min_map_rel30            56\n",
       "max_map_rel30            56\n",
       "mat_nrange30             56\n",
       "min_mat_rel30            56\n",
       "max_mat_rel30            56\n",
       "cmi_sm_nrange30_reg      56\n",
       "min_cmi_sm_rel30_reg     56\n",
       "max_cmi_sm_rel30_reg     56\n",
       "dd5_wt_nrange30_reg      56\n",
       "min_dd5_wt_rel30_reg     56\n",
       "max_dd5_wt_rel30_reg     56\n",
       "map_nrange30_reg         56\n",
       "min_map_rel30_reg        56\n",
       "max_map_rel30_reg        56\n",
       "mat_nrange30_reg         56\n",
       "min_mat_rel30_reg        56\n",
       "max_mat_rel30_reg        56\n",
       "dtype: int64"
      ]
     },
     "execution_count": 129,
     "metadata": {},
     "output_type": "execute_result"
    }
   ],
   "source": [
    "# Count NAs per columns\n",
    "X1.isna().sum()\n",
    "\n",
    "#X1['rad_wt_lag3'].isna().sum()"
   ]
  },
  {
   "cell_type": "code",
   "execution_count": 130,
   "id": "d36ac135",
   "metadata": {},
   "outputs": [
    {
     "data": {
      "text/plain": [
       "(11018, 60)"
      ]
     },
     "execution_count": 130,
     "metadata": {},
     "output_type": "execute_result"
    }
   ],
   "source": [
    "# drop rows with NAs (-9999.0 converted to nan) to run VIF below not for XGB model as XGB can handle NULLs\n",
    "# remove NAs as VIF fails when there are too many nulls\n",
    "# (11018, 13), (11018, 60)\n",
    "X2 = X1.dropna()\n",
    "X2.shape"
   ]
  },
  {
   "cell_type": "code",
   "execution_count": 26,
   "id": "9c01bdcd",
   "metadata": {},
   "outputs": [],
   "source": [
    "#list(X2)"
   ]
  },
  {
   "cell_type": "code",
   "execution_count": 131,
   "id": "aae5e855",
   "metadata": {},
   "outputs": [
    {
     "data": {
      "text/plain": [
       "for_age_2003            0\n",
       "for_con_2003            0\n",
       "delta_cmi_sm_lag3       0\n",
       "delta_dd5_wt_lag3       0\n",
       "avg_for_age             0\n",
       "avg_for_con             0\n",
       "avg_cmi_sm              0\n",
       "avg_dd5_wt              0\n",
       "min_cmi_sm              0\n",
       "min_dd5_wt              0\n",
       "max_cmi_sm              0\n",
       "max_dd5_wt              0\n",
       "delta_cmi_sm_lag2       0\n",
       "delta_dd5_wt_lag2       0\n",
       "delta_cmi_sm_lag1       0\n",
       "delta_dd5_wt_lag1       0\n",
       "delta_for_age           0\n",
       "delta_for_con           0\n",
       "delta_cmi_sm            0\n",
       "delta_dd5_wt            0\n",
       "cmi_sm_nrange           0\n",
       "dd5_wt_nrange           0\n",
       "min_cmi_sm_rel          0\n",
       "max_cmi_sm_rel          0\n",
       "min_dd5_wt_rel          0\n",
       "max_dd5_wt_rel          0\n",
       "map_nrange              0\n",
       "mat_nrange              0\n",
       "min_map_rel             0\n",
       "max_map_rel             0\n",
       "min_mat_rel             0\n",
       "max_mat_rel             0\n",
       "cmi_sm_cv               0\n",
       "dd5_wt_cv               0\n",
       "cmi_sm_cqv              0\n",
       "dd5_wt_cqv              0\n",
       "cmi_sm_nrange30         0\n",
       "min_cmi_sm_rel30        0\n",
       "max_cmi_sm_rel30        0\n",
       "dd5_wt_nrange30         0\n",
       "min_dd5_wt_rel30        0\n",
       "max_dd5_wt_rel30        0\n",
       "map_nrange30            0\n",
       "min_map_rel30           0\n",
       "max_map_rel30           0\n",
       "mat_nrange30            0\n",
       "min_mat_rel30           0\n",
       "max_mat_rel30           0\n",
       "cmi_sm_nrange30_reg     0\n",
       "min_cmi_sm_rel30_reg    0\n",
       "max_cmi_sm_rel30_reg    0\n",
       "dd5_wt_nrange30_reg     0\n",
       "min_dd5_wt_rel30_reg    0\n",
       "max_dd5_wt_rel30_reg    0\n",
       "map_nrange30_reg        0\n",
       "min_map_rel30_reg       0\n",
       "max_map_rel30_reg       0\n",
       "mat_nrange30_reg        0\n",
       "min_mat_rel30_reg       0\n",
       "max_mat_rel30_reg       0\n",
       "dtype: int64"
      ]
     },
     "execution_count": 131,
     "metadata": {},
     "output_type": "execute_result"
    }
   ],
   "source": [
    "# Count NAs per columns to check that step above worked\n",
    "X2.isna().sum()\n"
   ]
  },
  {
   "cell_type": "code",
   "execution_count": 65,
   "id": "f40f4bc2",
   "metadata": {
    "scrolled": true
   },
   "outputs": [],
   "source": [
    "#X2['effp_lag3'].describe()\n",
    "#s = pd.Series([-9999.0, 2, 3, 4, 5])\n",
    "#s.replace(-9999.0, nan, inplace=True)\n",
    "#s.describe()\n",
    "\n",
    "#print(X2.columns.tolist())\n"
   ]
  },
  {
   "cell_type": "code",
   "execution_count": 132,
   "id": "b38d7a09",
   "metadata": {},
   "outputs": [
    {
     "data": {
      "text/plain": [
       "(11018, 60)"
      ]
     },
     "execution_count": 132,
     "metadata": {},
     "output_type": "execute_result"
    }
   ],
   "source": [
    "# drop dummy vars\n",
    "#X3 = X2.drop(['magnitude', 'for_pro_0',  'for_pro_1'], inplace = True)\n",
    "#X2.drop(X2.columns[[0,136,137]], axis=1, inplace=True)\n",
    "X2.shape"
   ]
  },
  {
   "cell_type": "code",
   "execution_count": 30,
   "id": "d8fd4f9a",
   "metadata": {
    "scrolled": true
   },
   "outputs": [],
   "source": [
    "#print(X22.describe)\n",
    "#print(X2.describe)\n",
    "#[11018 rows x 13 columns]"
   ]
  },
  {
   "cell_type": "code",
   "execution_count": 134,
   "id": "6bcc0232",
   "metadata": {},
   "outputs": [],
   "source": [
    "#X22 = X2.loc[(X2['avg_for_con'] >= 0)]\n",
    "#X22 = X2.loc[(X2['min_cmi_sm_rel30'] >= -100) & (X2['min_cmi_sm_rel30'] <= 100) & (X2['cmi_sm_cqv'] >= -5)] # (10882, 60), (10701, 60)\n",
    "#X22.shape #(10693, 60)"
   ]
  },
  {
   "cell_type": "code",
   "execution_count": 80,
   "id": "aa8db935",
   "metadata": {},
   "outputs": [],
   "source": [
    "# Caluclate Varition inflation factors\n",
    "# https://datascience.stackexchange.com/questions/54280/multicollinearityvariance-inflation-factor-variables-to-remove-before-doing-a\n",
    "# Note VIF (variance_inflation_factor)\n",
    "from joblib import Parallel, delayed\n",
    "from statsmodels.stats.outliers_influence import variance_inflation_factor\n",
    "    \n",
    "def removeMultiColl(data, vif_threshold = 5.0):\n",
    "        for i in data.columns:\n",
    "            if data[i].nunique() == 1:\n",
    "                print(f\"Dropping {i} due to just 1 unique value\")\n",
    "                data.drop(columns = i, inplace = True)\n",
    "        drop = True\n",
    "        col_list = list(data.columns)\n",
    "        while drop == True:\n",
    "            drop = False\n",
    "            vif_list = Parallel(n_jobs = -1, verbose = 5)(delayed(variance_inflation_factor)(data[col_list].values, i) for i in range(data[col_list].shape[1]))\n",
    "            max_index = vif_list.index(max(vif_list))\n",
    "            if vif_list[max_index] > vif_threshold:\n",
    "                print(f\"Dropping column : {col_list[max_index]} at index - {max_index}\")\n",
    "                del col_list[max_index]\n",
    "                drop = True\n",
    "        print(\"Remaining columns :\\n\", list(data[col_list].columns))\n",
    "        return data[col_list]"
   ]
  },
  {
   "cell_type": "code",
   "execution_count": 135,
   "id": "c7194c29",
   "metadata": {
    "scrolled": true
   },
   "outputs": [
    {
     "name": "stderr",
     "output_type": "stream",
     "text": [
      "[Parallel(n_jobs=-1)]: Using backend LokyBackend with 6 concurrent workers.\n",
      "[Parallel(n_jobs=-1)]: Done   6 tasks      | elapsed:    1.9s\n",
      "[Parallel(n_jobs=-1)]: Done  60 out of  60 | elapsed:    3.0s finished\n"
     ]
    },
    {
     "name": "stdout",
     "output_type": "stream",
     "text": [
      "Dropping column : cmi_sm_nrange30 at index - 36\n"
     ]
    },
    {
     "name": "stderr",
     "output_type": "stream",
     "text": [
      "[Parallel(n_jobs=-1)]: Using backend LokyBackend with 6 concurrent workers.\n",
      "[Parallel(n_jobs=-1)]: Done   6 tasks      | elapsed:    0.1s\n",
      "[Parallel(n_jobs=-1)]: Done  59 out of  59 | elapsed:    1.1s finished\n",
      "[Parallel(n_jobs=-1)]: Using backend LokyBackend with 6 concurrent workers.\n"
     ]
    },
    {
     "name": "stdout",
     "output_type": "stream",
     "text": [
      "Dropping column : avg_for_age at index - 4\n"
     ]
    },
    {
     "name": "stderr",
     "output_type": "stream",
     "text": [
      "[Parallel(n_jobs=-1)]: Done   6 tasks      | elapsed:    0.1s\n",
      "[Parallel(n_jobs=-1)]: Done  47 out of  58 | elapsed:    0.9s remaining:    0.1s\n",
      "[Parallel(n_jobs=-1)]: Done  58 out of  58 | elapsed:    1.1s finished\n"
     ]
    },
    {
     "name": "stdout",
     "output_type": "stream",
     "text": [
      "Dropping column : for_con_2003 at index - 1\n"
     ]
    },
    {
     "name": "stderr",
     "output_type": "stream",
     "text": [
      "[Parallel(n_jobs=-1)]: Using backend LokyBackend with 6 concurrent workers.\n",
      "[Parallel(n_jobs=-1)]: Done   6 tasks      | elapsed:    0.1s\n",
      "[Parallel(n_jobs=-1)]: Done  57 out of  57 | elapsed:    1.1s finished\n",
      "[Parallel(n_jobs=-1)]: Using backend LokyBackend with 6 concurrent workers.\n"
     ]
    },
    {
     "name": "stdout",
     "output_type": "stream",
     "text": [
      "Dropping column : min_cmi_sm at index - 6\n"
     ]
    },
    {
     "name": "stderr",
     "output_type": "stream",
     "text": [
      "[Parallel(n_jobs=-1)]: Done   6 tasks      | elapsed:    0.1s\n",
      "[Parallel(n_jobs=-1)]: Done  56 out of  56 | elapsed:    1.1s finished\n"
     ]
    },
    {
     "name": "stdout",
     "output_type": "stream",
     "text": [
      "Dropping column : max_dd5_wt at index - 8\n"
     ]
    },
    {
     "name": "stderr",
     "output_type": "stream",
     "text": [
      "[Parallel(n_jobs=-1)]: Using backend LokyBackend with 6 concurrent workers.\n",
      "[Parallel(n_jobs=-1)]: Done   6 tasks      | elapsed:    0.1s\n",
      "[Parallel(n_jobs=-1)]: Done  44 out of  55 | elapsed:    0.9s remaining:    0.1s\n",
      "[Parallel(n_jobs=-1)]: Done  55 out of  55 | elapsed:    1.0s finished\n"
     ]
    },
    {
     "name": "stdout",
     "output_type": "stream",
     "text": [
      "Dropping column : cmi_sm_nrange30_reg at index - 43\n"
     ]
    },
    {
     "name": "stderr",
     "output_type": "stream",
     "text": [
      "[Parallel(n_jobs=-1)]: Using backend LokyBackend with 6 concurrent workers.\n",
      "[Parallel(n_jobs=-1)]: Done   6 tasks      | elapsed:    0.1s\n",
      "[Parallel(n_jobs=-1)]: Done  54 out of  54 | elapsed:    1.0s remaining:    0.0s\n",
      "[Parallel(n_jobs=-1)]: Done  54 out of  54 | elapsed:    1.0s finished\n",
      "[Parallel(n_jobs=-1)]: Using backend LokyBackend with 6 concurrent workers.\n"
     ]
    },
    {
     "name": "stdout",
     "output_type": "stream",
     "text": [
      "Dropping column : min_dd5_wt at index - 6\n"
     ]
    },
    {
     "name": "stderr",
     "output_type": "stream",
     "text": [
      "[Parallel(n_jobs=-1)]: Done   6 tasks      | elapsed:    0.1s\n",
      "[Parallel(n_jobs=-1)]: Done  42 out of  53 | elapsed:    0.8s remaining:    0.1s\n",
      "[Parallel(n_jobs=-1)]: Done  53 out of  53 | elapsed:    1.0s remaining:    0.0s\n",
      "[Parallel(n_jobs=-1)]: Done  53 out of  53 | elapsed:    1.0s finished\n"
     ]
    },
    {
     "name": "stdout",
     "output_type": "stream",
     "text": [
      "Dropping column : cmi_sm_nrange at index - 15\n"
     ]
    },
    {
     "name": "stderr",
     "output_type": "stream",
     "text": [
      "[Parallel(n_jobs=-1)]: Using backend LokyBackend with 6 concurrent workers.\n",
      "[Parallel(n_jobs=-1)]: Done   6 tasks      | elapsed:    0.1s\n",
      "[Parallel(n_jobs=-1)]: Done  52 out of  52 | elapsed:    0.9s remaining:    0.0s\n",
      "[Parallel(n_jobs=-1)]: Done  52 out of  52 | elapsed:    0.9s finished\n",
      "[Parallel(n_jobs=-1)]: Using backend LokyBackend with 6 concurrent workers.\n"
     ]
    },
    {
     "name": "stdout",
     "output_type": "stream",
     "text": [
      "Dropping column : max_dd5_wt_rel30 at index - 34\n"
     ]
    },
    {
     "name": "stderr",
     "output_type": "stream",
     "text": [
      "[Parallel(n_jobs=-1)]: Done   6 tasks      | elapsed:    0.1s\n",
      "[Parallel(n_jobs=-1)]: Done  40 out of  51 | elapsed:    0.8s remaining:    0.1s\n",
      "[Parallel(n_jobs=-1)]: Done  51 out of  51 | elapsed:    0.9s remaining:    0.0s\n",
      "[Parallel(n_jobs=-1)]: Done  51 out of  51 | elapsed:    0.9s finished\n"
     ]
    },
    {
     "name": "stdout",
     "output_type": "stream",
     "text": [
      "Dropping column : max_dd5_wt_rel30_reg at index - 44\n"
     ]
    },
    {
     "name": "stderr",
     "output_type": "stream",
     "text": [
      "[Parallel(n_jobs=-1)]: Using backend LokyBackend with 6 concurrent workers.\n",
      "[Parallel(n_jobs=-1)]: Done   6 tasks      | elapsed:    0.1s\n",
      "[Parallel(n_jobs=-1)]: Done  50 out of  50 | elapsed:    0.9s remaining:    0.0s\n",
      "[Parallel(n_jobs=-1)]: Done  50 out of  50 | elapsed:    0.9s finished\n",
      "[Parallel(n_jobs=-1)]: Using backend LokyBackend with 6 concurrent workers.\n"
     ]
    },
    {
     "name": "stdout",
     "output_type": "stream",
     "text": [
      "Dropping column : max_cmi_sm at index - 6\n"
     ]
    },
    {
     "name": "stderr",
     "output_type": "stream",
     "text": [
      "[Parallel(n_jobs=-1)]: Done   6 tasks      | elapsed:    0.1s\n",
      "[Parallel(n_jobs=-1)]: Done  38 out of  49 | elapsed:    0.7s remaining:    0.1s\n",
      "[Parallel(n_jobs=-1)]: Done  49 out of  49 | elapsed:    0.8s finished\n"
     ]
    },
    {
     "name": "stdout",
     "output_type": "stream",
     "text": [
      "Dropping column : max_dd5_wt_rel at index - 18\n"
     ]
    },
    {
     "name": "stderr",
     "output_type": "stream",
     "text": [
      "[Parallel(n_jobs=-1)]: Using backend LokyBackend with 6 concurrent workers.\n",
      "[Parallel(n_jobs=-1)]: Done   6 tasks      | elapsed:    0.1s\n",
      "[Parallel(n_jobs=-1)]: Done  48 out of  48 | elapsed:    0.7s finished\n",
      "[Parallel(n_jobs=-1)]: Using backend LokyBackend with 6 concurrent workers.\n"
     ]
    },
    {
     "name": "stdout",
     "output_type": "stream",
     "text": [
      "Dropping column : max_mat_rel30 at index - 37\n"
     ]
    },
    {
     "name": "stderr",
     "output_type": "stream",
     "text": [
      "[Parallel(n_jobs=-1)]: Done   6 tasks      | elapsed:    0.1s\n",
      "[Parallel(n_jobs=-1)]: Done  36 out of  47 | elapsed:    0.6s remaining:    0.1s\n",
      "[Parallel(n_jobs=-1)]: Done  47 out of  47 | elapsed:    0.7s finished\n"
     ]
    },
    {
     "name": "stdout",
     "output_type": "stream",
     "text": [
      "Dropping column : max_mat_rel30_reg at index - 46\n"
     ]
    },
    {
     "name": "stderr",
     "output_type": "stream",
     "text": [
      "[Parallel(n_jobs=-1)]: Using backend LokyBackend with 6 concurrent workers.\n",
      "[Parallel(n_jobs=-1)]: Done   6 tasks      | elapsed:    0.1s\n",
      "[Parallel(n_jobs=-1)]: Done  46 out of  46 | elapsed:    0.8s finished\n",
      "[Parallel(n_jobs=-1)]: Using backend LokyBackend with 6 concurrent workers.\n"
     ]
    },
    {
     "name": "stdout",
     "output_type": "stream",
     "text": [
      "Dropping column : max_map_rel at index - 21\n"
     ]
    },
    {
     "name": "stderr",
     "output_type": "stream",
     "text": [
      "[Parallel(n_jobs=-1)]: Done   6 tasks      | elapsed:    0.0s\n",
      "[Parallel(n_jobs=-1)]: Done  34 out of  45 | elapsed:    0.5s remaining:    0.1s\n",
      "[Parallel(n_jobs=-1)]: Done  45 out of  45 | elapsed:    0.6s finished\n"
     ]
    },
    {
     "name": "stdout",
     "output_type": "stream",
     "text": [
      "Dropping column : max_mat_rel at index - 22\n"
     ]
    },
    {
     "name": "stderr",
     "output_type": "stream",
     "text": [
      "[Parallel(n_jobs=-1)]: Using backend LokyBackend with 6 concurrent workers.\n",
      "[Parallel(n_jobs=-1)]: Done   6 tasks      | elapsed:    0.1s\n",
      "[Parallel(n_jobs=-1)]: Done  42 out of  44 | elapsed:    0.6s remaining:    0.0s\n",
      "[Parallel(n_jobs=-1)]: Done  44 out of  44 | elapsed:    0.6s finished\n",
      "[Parallel(n_jobs=-1)]: Using backend LokyBackend with 6 concurrent workers.\n"
     ]
    },
    {
     "name": "stdout",
     "output_type": "stream",
     "text": [
      "Dropping column : max_map_rel30 at index - 32\n"
     ]
    },
    {
     "name": "stderr",
     "output_type": "stream",
     "text": [
      "[Parallel(n_jobs=-1)]: Done   6 tasks      | elapsed:    0.1s\n",
      "[Parallel(n_jobs=-1)]: Done  32 out of  43 | elapsed:    0.5s remaining:    0.1s\n",
      "[Parallel(n_jobs=-1)]: Done  41 out of  43 | elapsed:    0.6s remaining:    0.0s\n",
      "[Parallel(n_jobs=-1)]: Done  43 out of  43 | elapsed:    0.6s finished\n"
     ]
    },
    {
     "name": "stdout",
     "output_type": "stream",
     "text": [
      "Dropping column : max_map_rel30_reg at index - 40\n"
     ]
    },
    {
     "name": "stderr",
     "output_type": "stream",
     "text": [
      "[Parallel(n_jobs=-1)]: Using backend LokyBackend with 6 concurrent workers.\n",
      "[Parallel(n_jobs=-1)]: Done   6 tasks      | elapsed:    0.1s\n",
      "[Parallel(n_jobs=-1)]: Done  31 out of  42 | elapsed:    0.6s remaining:    0.2s\n",
      "[Parallel(n_jobs=-1)]: Done  40 out of  42 | elapsed:    0.7s remaining:    0.0s\n",
      "[Parallel(n_jobs=-1)]: Done  42 out of  42 | elapsed:    0.7s finished\n"
     ]
    },
    {
     "name": "stdout",
     "output_type": "stream",
     "text": [
      "Dropping column : min_map_rel30 at index - 31\n"
     ]
    },
    {
     "name": "stderr",
     "output_type": "stream",
     "text": [
      "[Parallel(n_jobs=-1)]: Using backend LokyBackend with 6 concurrent workers.\n",
      "[Parallel(n_jobs=-1)]: Done   6 tasks      | elapsed:    0.2s\n",
      "[Parallel(n_jobs=-1)]: Done  30 out of  41 | elapsed:    0.5s remaining:    0.1s\n",
      "[Parallel(n_jobs=-1)]: Done  39 out of  41 | elapsed:    0.6s remaining:    0.0s\n",
      "[Parallel(n_jobs=-1)]: Done  41 out of  41 | elapsed:    0.6s finished\n"
     ]
    },
    {
     "name": "stdout",
     "output_type": "stream",
     "text": [
      "Dropping column : min_mat_rel at index - 21\n"
     ]
    },
    {
     "name": "stderr",
     "output_type": "stream",
     "text": [
      "[Parallel(n_jobs=-1)]: Using backend LokyBackend with 6 concurrent workers.\n",
      "[Parallel(n_jobs=-1)]: Done   6 tasks      | elapsed:    0.1s\n",
      "[Parallel(n_jobs=-1)]: Done  38 out of  40 | elapsed:    0.6s remaining:    0.0s\n",
      "[Parallel(n_jobs=-1)]: Done  40 out of  40 | elapsed:    0.6s finished\n",
      "[Parallel(n_jobs=-1)]: Using backend LokyBackend with 6 concurrent workers.\n"
     ]
    },
    {
     "name": "stdout",
     "output_type": "stream",
     "text": [
      "Dropping column : min_map_rel at index - 20\n"
     ]
    },
    {
     "name": "stderr",
     "output_type": "stream",
     "text": [
      "[Parallel(n_jobs=-1)]: Done   6 tasks      | elapsed:    0.1s\n",
      "[Parallel(n_jobs=-1)]: Done  28 out of  39 | elapsed:    0.5s remaining:    0.1s\n",
      "[Parallel(n_jobs=-1)]: Done  36 out of  39 | elapsed:    0.5s remaining:    0.0s\n",
      "[Parallel(n_jobs=-1)]: Done  39 out of  39 | elapsed:    0.5s finished\n"
     ]
    },
    {
     "name": "stdout",
     "output_type": "stream",
     "text": [
      "Dropping column : map_nrange at index - 18\n"
     ]
    },
    {
     "name": "stderr",
     "output_type": "stream",
     "text": [
      "[Parallel(n_jobs=-1)]: Using backend LokyBackend with 6 concurrent workers.\n",
      "[Parallel(n_jobs=-1)]: Done   6 tasks      | elapsed:    0.1s\n",
      "[Parallel(n_jobs=-1)]: Done  35 out of  38 | elapsed:    0.5s remaining:    0.0s\n",
      "[Parallel(n_jobs=-1)]: Done  38 out of  38 | elapsed:    0.5s finished\n",
      "[Parallel(n_jobs=-1)]: Using backend LokyBackend with 6 concurrent workers.\n"
     ]
    },
    {
     "name": "stdout",
     "output_type": "stream",
     "text": [
      "Dropping column : avg_dd5_wt at index - 5\n"
     ]
    },
    {
     "name": "stderr",
     "output_type": "stream",
     "text": [
      "[Parallel(n_jobs=-1)]: Done   6 tasks      | elapsed:    0.1s\n",
      "[Parallel(n_jobs=-1)]: Done  18 out of  37 | elapsed:    0.3s remaining:    0.3s\n",
      "[Parallel(n_jobs=-1)]: Done  26 out of  37 | elapsed:    0.4s remaining:    0.1s\n",
      "[Parallel(n_jobs=-1)]: Done  37 out of  37 | elapsed:    0.5s finished\n"
     ]
    },
    {
     "name": "stdout",
     "output_type": "stream",
     "text": [
      "Dropping column : mat_nrange at index - 17\n"
     ]
    },
    {
     "name": "stderr",
     "output_type": "stream",
     "text": [
      "[Parallel(n_jobs=-1)]: Using backend LokyBackend with 6 concurrent workers.\n",
      "[Parallel(n_jobs=-1)]: Done   6 tasks      | elapsed:    0.1s\n",
      "[Parallel(n_jobs=-1)]: Done  36 out of  36 | elapsed:    0.5s finished\n",
      "[Parallel(n_jobs=-1)]: Using backend LokyBackend with 6 concurrent workers.\n"
     ]
    },
    {
     "name": "stdout",
     "output_type": "stream",
     "text": [
      "Dropping column : map_nrange30 at index - 25\n"
     ]
    },
    {
     "name": "stderr",
     "output_type": "stream",
     "text": [
      "[Parallel(n_jobs=-1)]: Done   6 tasks      | elapsed:    0.1s\n",
      "[Parallel(n_jobs=-1)]: Done  32 out of  35 | elapsed:    0.4s remaining:    0.0s\n",
      "[Parallel(n_jobs=-1)]: Done  35 out of  35 | elapsed:    0.4s finished\n",
      "[Parallel(n_jobs=-1)]: Using backend LokyBackend with 6 concurrent workers.\n"
     ]
    },
    {
     "name": "stdout",
     "output_type": "stream",
     "text": [
      "Dropping column : min_mat_rel30 at index - 26\n"
     ]
    },
    {
     "name": "stderr",
     "output_type": "stream",
     "text": [
      "[Parallel(n_jobs=-1)]: Done   6 tasks      | elapsed:    0.1s\n",
      "[Parallel(n_jobs=-1)]: Done  23 out of  34 | elapsed:    0.3s remaining:    0.1s\n",
      "[Parallel(n_jobs=-1)]: Done  30 out of  34 | elapsed:    0.4s remaining:    0.0s\n",
      "[Parallel(n_jobs=-1)]: Done  34 out of  34 | elapsed:    0.4s finished\n"
     ]
    },
    {
     "name": "stdout",
     "output_type": "stream",
     "text": [
      "Dropping column : cmi_sm_cv at index - 17\n"
     ]
    },
    {
     "name": "stderr",
     "output_type": "stream",
     "text": [
      "[Parallel(n_jobs=-1)]: Using backend LokyBackend with 6 concurrent workers.\n",
      "[Parallel(n_jobs=-1)]: Done   6 tasks      | elapsed:    0.1s\n",
      "[Parallel(n_jobs=-1)]: Done  22 out of  33 | elapsed:    0.3s remaining:    0.1s\n",
      "[Parallel(n_jobs=-1)]: Done  29 out of  33 | elapsed:    0.4s remaining:    0.0s\n",
      "[Parallel(n_jobs=-1)]: Done  33 out of  33 | elapsed:    0.5s finished\n"
     ]
    },
    {
     "name": "stdout",
     "output_type": "stream",
     "text": [
      "Dropping column : dd5_wt_nrange at index - 13\n"
     ]
    },
    {
     "name": "stderr",
     "output_type": "stream",
     "text": [
      "[Parallel(n_jobs=-1)]: Using backend LokyBackend with 6 concurrent workers.\n",
      "[Parallel(n_jobs=-1)]: Done   6 tasks      | elapsed:    0.1s\n",
      "[Parallel(n_jobs=-1)]: Done  28 out of  32 | elapsed:    0.3s remaining:    0.0s\n",
      "[Parallel(n_jobs=-1)]: Done  32 out of  32 | elapsed:    0.4s finished\n",
      "[Parallel(n_jobs=-1)]: Using backend LokyBackend with 6 concurrent workers.\n"
     ]
    },
    {
     "name": "stdout",
     "output_type": "stream",
     "text": [
      "Dropping column : mat_nrange30_reg at index - 30\n"
     ]
    },
    {
     "name": "stderr",
     "output_type": "stream",
     "text": [
      "[Parallel(n_jobs=-1)]: Done   6 tasks      | elapsed:    0.1s\n",
      "[Parallel(n_jobs=-1)]: Done  20 out of  31 | elapsed:    0.2s remaining:    0.1s\n",
      "[Parallel(n_jobs=-1)]: Done  27 out of  31 | elapsed:    0.3s remaining:    0.0s\n",
      "[Parallel(n_jobs=-1)]: Done  31 out of  31 | elapsed:    0.4s finished\n",
      "[Parallel(n_jobs=-1)]: Using backend LokyBackend with 6 concurrent workers.\n"
     ]
    },
    {
     "name": "stdout",
     "output_type": "stream",
     "text": [
      "Dropping column : min_dd5_wt_rel at index - 15\n"
     ]
    },
    {
     "name": "stderr",
     "output_type": "stream",
     "text": [
      "[Parallel(n_jobs=-1)]: Done   6 tasks      | elapsed:    0.1s\n",
      "[Parallel(n_jobs=-1)]: Done  26 out of  30 | elapsed:    0.3s remaining:    0.0s\n",
      "[Parallel(n_jobs=-1)]: Done  30 out of  30 | elapsed:    0.3s finished\n",
      "[Parallel(n_jobs=-1)]: Using backend LokyBackend with 6 concurrent workers.\n"
     ]
    },
    {
     "name": "stdout",
     "output_type": "stream",
     "text": [
      "Dropping column : min_map_rel30_reg at index - 28\n"
     ]
    },
    {
     "name": "stderr",
     "output_type": "stream",
     "text": [
      "[Parallel(n_jobs=-1)]: Done   6 tasks      | elapsed:    0.1s\n",
      "[Parallel(n_jobs=-1)]: Done  18 out of  29 | elapsed:    0.3s remaining:    0.2s\n",
      "[Parallel(n_jobs=-1)]: Done  24 out of  29 | elapsed:    0.3s remaining:    0.0s\n",
      "[Parallel(n_jobs=-1)]: Done  29 out of  29 | elapsed:    0.4s finished\n",
      "[Parallel(n_jobs=-1)]: Using backend LokyBackend with 6 concurrent workers.\n"
     ]
    },
    {
     "name": "stdout",
     "output_type": "stream",
     "text": [
      "Dropping column : min_cmi_sm_rel30_reg at index - 23\n"
     ]
    },
    {
     "name": "stderr",
     "output_type": "stream",
     "text": [
      "[Parallel(n_jobs=-1)]: Done   6 tasks      | elapsed:    0.1s\n",
      "[Parallel(n_jobs=-1)]: Done  28 out of  28 | elapsed:    0.3s finished\n"
     ]
    },
    {
     "name": "stdout",
     "output_type": "stream",
     "text": [
      "Dropping column : min_cmi_sm_rel at index - 13\n"
     ]
    },
    {
     "name": "stderr",
     "output_type": "stream",
     "text": [
      "[Parallel(n_jobs=-1)]: Using backend LokyBackend with 6 concurrent workers.\n",
      "[Parallel(n_jobs=-1)]: Done   6 tasks      | elapsed:    0.0s\n",
      "[Parallel(n_jobs=-1)]: Done  16 out of  27 | elapsed:    0.2s remaining:    0.1s\n",
      "[Parallel(n_jobs=-1)]: Done  22 out of  27 | elapsed:    0.2s remaining:    0.0s\n",
      "[Parallel(n_jobs=-1)]: Done  27 out of  27 | elapsed:    0.3s finished\n"
     ]
    },
    {
     "name": "stdout",
     "output_type": "stream",
     "text": [
      "Dropping column : min_dd5_wt_rel30_reg at index - 24\n"
     ]
    },
    {
     "name": "stderr",
     "output_type": "stream",
     "text": [
      "[Parallel(n_jobs=-1)]: Using backend LokyBackend with 6 concurrent workers.\n",
      "[Parallel(n_jobs=-1)]: Done   6 tasks      | elapsed:    0.1s\n",
      "[Parallel(n_jobs=-1)]: Done  26 out of  26 | elapsed:    0.3s finished\n"
     ]
    },
    {
     "name": "stdout",
     "output_type": "stream",
     "text": [
      "Dropping column : min_mat_rel30_reg at index - 25\n"
     ]
    },
    {
     "name": "stderr",
     "output_type": "stream",
     "text": [
      "[Parallel(n_jobs=-1)]: Using backend LokyBackend with 6 concurrent workers.\n",
      "[Parallel(n_jobs=-1)]: Done   6 tasks      | elapsed:    0.1s\n",
      "[Parallel(n_jobs=-1)]: Done  14 out of  25 | elapsed:    0.2s remaining:    0.1s\n",
      "[Parallel(n_jobs=-1)]: Done  20 out of  25 | elapsed:    0.2s remaining:    0.0s\n",
      "[Parallel(n_jobs=-1)]: Done  25 out of  25 | elapsed:    0.2s finished\n"
     ]
    },
    {
     "name": "stdout",
     "output_type": "stream",
     "text": [
      "Dropping column : dd5_wt_cv at index - 14\n"
     ]
    },
    {
     "name": "stderr",
     "output_type": "stream",
     "text": [
      "[Parallel(n_jobs=-1)]: Using backend LokyBackend with 6 concurrent workers.\n",
      "[Parallel(n_jobs=-1)]: Done   6 tasks      | elapsed:    0.1s\n",
      "[Parallel(n_jobs=-1)]: Done   8 out of  24 | elapsed:    0.1s remaining:    0.2s\n",
      "[Parallel(n_jobs=-1)]: Done  18 out of  24 | elapsed:    0.3s remaining:    0.0s\n",
      "[Parallel(n_jobs=-1)]: Done  24 out of  24 | elapsed:    0.3s finished\n",
      "[Parallel(n_jobs=-1)]: Using backend LokyBackend with 6 concurrent workers.\n"
     ]
    },
    {
     "name": "stdout",
     "output_type": "stream",
     "text": [
      "Dropping column : dd5_wt_nrange30_reg at index - 22\n"
     ]
    },
    {
     "name": "stderr",
     "output_type": "stream",
     "text": [
      "[Parallel(n_jobs=-1)]: Done   6 tasks      | elapsed:    0.0s\n",
      "[Parallel(n_jobs=-1)]: Done  17 out of  23 | elapsed:    0.2s remaining:    0.0s\n",
      "[Parallel(n_jobs=-1)]: Done  23 out of  23 | elapsed:    0.2s finished\n"
     ]
    },
    {
     "name": "stdout",
     "output_type": "stream",
     "text": [
      "Dropping column : mat_nrange30 at index - 20\n"
     ]
    },
    {
     "name": "stderr",
     "output_type": "stream",
     "text": [
      "[Parallel(n_jobs=-1)]: Using backend LokyBackend with 6 concurrent workers.\n",
      "[Parallel(n_jobs=-1)]: Done   6 tasks      | elapsed:    0.1s\n",
      "[Parallel(n_jobs=-1)]: Done  16 out of  22 | elapsed:    0.1s remaining:    0.0s\n",
      "[Parallel(n_jobs=-1)]: Done  22 out of  22 | elapsed:    0.2s finished\n",
      "[Parallel(n_jobs=-1)]: Using backend LokyBackend with 6 concurrent workers.\n"
     ]
    },
    {
     "name": "stdout",
     "output_type": "stream",
     "text": [
      "Dropping column : avg_cmi_sm at index - 4\n"
     ]
    },
    {
     "name": "stderr",
     "output_type": "stream",
     "text": [
      "[Parallel(n_jobs=-1)]: Done   6 tasks      | elapsed:    0.0s\n",
      "[Parallel(n_jobs=-1)]: Done  15 out of  21 | elapsed:    0.1s remaining:    0.0s\n",
      "[Parallel(n_jobs=-1)]: Done  21 out of  21 | elapsed:    0.1s finished\n"
     ]
    },
    {
     "name": "stdout",
     "output_type": "stream",
     "text": [
      "Dropping column : delta_cmi_sm_lag3 at index - 1\n"
     ]
    },
    {
     "name": "stderr",
     "output_type": "stream",
     "text": [
      "[Parallel(n_jobs=-1)]: Using backend LokyBackend with 6 concurrent workers.\n",
      "[Parallel(n_jobs=-1)]: Done   6 tasks      | elapsed:    0.1s\n",
      "[Parallel(n_jobs=-1)]: Done  14 out of  20 | elapsed:    0.2s remaining:    0.0s\n",
      "[Parallel(n_jobs=-1)]: Done  20 out of  20 | elapsed:    0.3s finished\n"
     ]
    },
    {
     "name": "stdout",
     "output_type": "stream",
     "text": [
      "Dropping column : map_nrange30_reg at index - 19\n"
     ]
    },
    {
     "name": "stderr",
     "output_type": "stream",
     "text": [
      "[Parallel(n_jobs=-1)]: Using backend LokyBackend with 6 concurrent workers.\n",
      "[Parallel(n_jobs=-1)]: Done   6 tasks      | elapsed:    0.0s\n",
      "[Parallel(n_jobs=-1)]: Done  12 out of  19 | elapsed:    0.1s remaining:    0.0s\n",
      "[Parallel(n_jobs=-1)]: Done  16 out of  19 | elapsed:    0.2s remaining:    0.0s\n",
      "[Parallel(n_jobs=-1)]: Done  19 out of  19 | elapsed:    0.2s finished\n",
      "[Parallel(n_jobs=-1)]: Using backend LokyBackend with 6 concurrent workers.\n"
     ]
    },
    {
     "name": "stdout",
     "output_type": "stream",
     "text": [
      "Dropping column : delta_dd5_wt at index - 10\n"
     ]
    },
    {
     "name": "stderr",
     "output_type": "stream",
     "text": [
      "[Parallel(n_jobs=-1)]: Done   6 tasks      | elapsed:    0.0s\n",
      "[Parallel(n_jobs=-1)]: Done  11 out of  18 | elapsed:    0.1s remaining:    0.0s\n",
      "[Parallel(n_jobs=-1)]: Done  15 out of  18 | elapsed:    0.1s remaining:    0.0s\n",
      "[Parallel(n_jobs=-1)]: Done  18 out of  18 | elapsed:    0.1s finished\n"
     ]
    },
    {
     "name": "stdout",
     "output_type": "stream",
     "text": [
      "Dropping column : delta_cmi_sm at index - 9\n"
     ]
    },
    {
     "name": "stderr",
     "output_type": "stream",
     "text": [
      "[Parallel(n_jobs=-1)]: Using backend LokyBackend with 6 concurrent workers.\n",
      "[Parallel(n_jobs=-1)]: Done   6 tasks      | elapsed:    0.0s\n",
      "[Parallel(n_jobs=-1)]: Done  10 out of  17 | elapsed:    0.1s remaining:    0.0s\n",
      "[Parallel(n_jobs=-1)]: Done  14 out of  17 | elapsed:    0.1s remaining:    0.0s\n",
      "[Parallel(n_jobs=-1)]: Done  17 out of  17 | elapsed:    0.1s finished\n",
      "[Parallel(n_jobs=-1)]: Using backend LokyBackend with 6 concurrent workers.\n"
     ]
    },
    {
     "name": "stdout",
     "output_type": "stream",
     "text": [
      "Dropping column : min_dd5_wt_rel30 at index - 15\n"
     ]
    },
    {
     "name": "stderr",
     "output_type": "stream",
     "text": [
      "[Parallel(n_jobs=-1)]: Done   9 out of  16 | elapsed:    0.0s remaining:    0.0s\n",
      "[Parallel(n_jobs=-1)]: Done  13 out of  16 | elapsed:    0.0s remaining:    0.0s\n",
      "[Parallel(n_jobs=-1)]: Done  16 out of  16 | elapsed:    0.1s finished\n",
      "[Parallel(n_jobs=-1)]: Using backend LokyBackend with 6 concurrent workers.\n"
     ]
    },
    {
     "name": "stdout",
     "output_type": "stream",
     "text": [
      "Dropping column : delta_dd5_wt_lag1 at index - 6\n"
     ]
    },
    {
     "name": "stderr",
     "output_type": "stream",
     "text": [
      "[Parallel(n_jobs=-1)]: Done   8 out of  15 | elapsed:    0.0s remaining:    0.0s\n",
      "[Parallel(n_jobs=-1)]: Done  12 out of  15 | elapsed:    0.0s remaining:    0.0s\n",
      "[Parallel(n_jobs=-1)]: Done  15 out of  15 | elapsed:    0.0s finished\n",
      "[Parallel(n_jobs=-1)]: Using backend LokyBackend with 6 concurrent workers.\n"
     ]
    },
    {
     "name": "stdout",
     "output_type": "stream",
     "text": [
      "Dropping column : min_cmi_sm_rel30 at index - 11\n"
     ]
    },
    {
     "name": "stderr",
     "output_type": "stream",
     "text": [
      "[Parallel(n_jobs=-1)]: Done   6 out of  14 | elapsed:    0.0s remaining:    0.0s\n",
      "[Parallel(n_jobs=-1)]: Done   9 out of  14 | elapsed:    0.0s remaining:    0.0s\n",
      "[Parallel(n_jobs=-1)]: Done  12 out of  14 | elapsed:    0.0s remaining:    0.0s\n",
      "[Parallel(n_jobs=-1)]: Done  14 out of  14 | elapsed:    0.0s finished\n",
      "[Parallel(n_jobs=-1)]: Using backend LokyBackend with 6 concurrent workers.\n"
     ]
    },
    {
     "name": "stdout",
     "output_type": "stream",
     "text": [
      "Dropping column : dd5_wt_nrange30 at index - 12\n"
     ]
    },
    {
     "name": "stderr",
     "output_type": "stream",
     "text": [
      "[Parallel(n_jobs=-1)]: Done   5 out of  13 | elapsed:    0.0s remaining:    0.1s\n",
      "[Parallel(n_jobs=-1)]: Done   8 out of  13 | elapsed:    0.0s remaining:    0.0s\n",
      "[Parallel(n_jobs=-1)]: Done  11 out of  13 | elapsed:    0.0s remaining:    0.0s\n",
      "[Parallel(n_jobs=-1)]: Done  13 out of  13 | elapsed:    0.0s finished\n",
      "[Parallel(n_jobs=-1)]: Using backend LokyBackend with 6 concurrent workers.\n"
     ]
    },
    {
     "name": "stdout",
     "output_type": "stream",
     "text": [
      "Dropping column : delta_dd5_wt_lag2 at index - 4\n"
     ]
    },
    {
     "name": "stderr",
     "output_type": "stream",
     "text": [
      "[Parallel(n_jobs=-1)]: Done   4 out of  12 | elapsed:    0.0s remaining:    0.0s\n",
      "[Parallel(n_jobs=-1)]: Done   7 out of  12 | elapsed:    0.1s remaining:    0.0s\n",
      "[Parallel(n_jobs=-1)]: Done  10 out of  12 | elapsed:    0.1s remaining:    0.0s\n",
      "[Parallel(n_jobs=-1)]: Done  12 out of  12 | elapsed:    0.1s finished\n"
     ]
    },
    {
     "name": "stdout",
     "output_type": "stream",
     "text": [
      "Dropping column : for_age_2003 at index - 0\n",
      "Dropping column : dd5_wt_cqv at index - 8\n",
      "Dropping column : max_cmi_sm_rel at index - 6\n",
      "Dropping column : delta_cmi_sm_lag1 at index - 3\n",
      "Dropping column : delta_cmi_sm_lag2 at index - 2\n",
      "Remaining columns :\n",
      " ['delta_dd5_wt_lag3', 'avg_for_con', 'delta_for_age', 'delta_for_con', 'cmi_sm_cqv', 'max_cmi_sm_rel30', 'max_cmi_sm_rel30_reg']\n"
     ]
    },
    {
     "name": "stderr",
     "output_type": "stream",
     "text": [
      "[Parallel(n_jobs=-1)]: Using backend LokyBackend with 6 concurrent workers.\n",
      "[Parallel(n_jobs=-1)]: Done   3 out of  11 | elapsed:    0.0s remaining:    0.0s\n",
      "[Parallel(n_jobs=-1)]: Done   6 out of  11 | elapsed:    0.0s remaining:    0.0s\n",
      "[Parallel(n_jobs=-1)]: Done   9 out of  11 | elapsed:    0.0s remaining:    0.0s\n",
      "[Parallel(n_jobs=-1)]: Done  11 out of  11 | elapsed:    0.0s finished\n",
      "[Parallel(n_jobs=-1)]: Using backend LokyBackend with 6 concurrent workers.\n",
      "[Parallel(n_jobs=-1)]: Done   2 out of  10 | elapsed:    0.0s remaining:    0.0s\n",
      "[Parallel(n_jobs=-1)]: Done   5 out of  10 | elapsed:    0.0s remaining:    0.0s\n",
      "[Parallel(n_jobs=-1)]: Done   8 out of  10 | elapsed:    0.0s remaining:    0.0s\n",
      "[Parallel(n_jobs=-1)]: Done  10 out of  10 | elapsed:    0.0s finished\n",
      "[Parallel(n_jobs=-1)]: Using backend LokyBackend with 6 concurrent workers.\n",
      "[Parallel(n_jobs=-1)]: Done   2 out of   9 | elapsed:    0.0s remaining:    0.0s\n",
      "[Parallel(n_jobs=-1)]: Done   4 out of   9 | elapsed:    0.0s remaining:    0.0s\n",
      "[Parallel(n_jobs=-1)]: Done   6 out of   9 | elapsed:    0.0s remaining:    0.0s\n",
      "[Parallel(n_jobs=-1)]: Done   9 out of   9 | elapsed:    0.0s finished\n",
      "[Parallel(n_jobs=-1)]: Using backend LokyBackend with 6 concurrent workers.\n",
      "[Parallel(n_jobs=-1)]: Done   3 out of   8 | elapsed:    0.0s remaining:    0.0s\n",
      "[Parallel(n_jobs=-1)]: Done   5 out of   8 | elapsed:    0.0s remaining:    0.0s\n",
      "[Parallel(n_jobs=-1)]: Done   8 out of   8 | elapsed:    0.0s finished\n",
      "[Parallel(n_jobs=-1)]: Using backend LokyBackend with 6 concurrent workers.\n",
      "[Parallel(n_jobs=-1)]: Done   2 out of   7 | elapsed:    0.0s remaining:    0.0s\n",
      "[Parallel(n_jobs=-1)]: Done   4 out of   7 | elapsed:    0.0s remaining:    0.0s\n",
      "[Parallel(n_jobs=-1)]: Done   7 out of   7 | elapsed:    0.0s finished\n"
     ]
    },
    {
     "data": {
      "text/html": [
       "<div>\n",
       "<style scoped>\n",
       "    .dataframe tbody tr th:only-of-type {\n",
       "        vertical-align: middle;\n",
       "    }\n",
       "\n",
       "    .dataframe tbody tr th {\n",
       "        vertical-align: top;\n",
       "    }\n",
       "\n",
       "    .dataframe thead th {\n",
       "        text-align: right;\n",
       "    }\n",
       "</style>\n",
       "<table border=\"1\" class=\"dataframe\">\n",
       "  <thead>\n",
       "    <tr style=\"text-align: right;\">\n",
       "      <th></th>\n",
       "      <th>delta_dd5_wt_lag3</th>\n",
       "      <th>avg_for_con</th>\n",
       "      <th>delta_for_age</th>\n",
       "      <th>delta_for_con</th>\n",
       "      <th>cmi_sm_cqv</th>\n",
       "      <th>max_cmi_sm_rel30</th>\n",
       "      <th>max_cmi_sm_rel30_reg</th>\n",
       "    </tr>\n",
       "  </thead>\n",
       "  <tbody>\n",
       "    <tr>\n",
       "      <th>0</th>\n",
       "      <td>0.000</td>\n",
       "      <td>31.223</td>\n",
       "      <td>-4.302</td>\n",
       "      <td>1.374</td>\n",
       "      <td>-0.405</td>\n",
       "      <td>-6.477</td>\n",
       "      <td>-1.761</td>\n",
       "    </tr>\n",
       "    <tr>\n",
       "      <th>1</th>\n",
       "      <td>0.000</td>\n",
       "      <td>37.430</td>\n",
       "      <td>3.385</td>\n",
       "      <td>-3.895</td>\n",
       "      <td>-0.440</td>\n",
       "      <td>-1.612</td>\n",
       "      <td>-1.026</td>\n",
       "    </tr>\n",
       "    <tr>\n",
       "      <th>2</th>\n",
       "      <td>0.000</td>\n",
       "      <td>34.607</td>\n",
       "      <td>-6.306</td>\n",
       "      <td>-4.851</td>\n",
       "      <td>-0.939</td>\n",
       "      <td>-8.577</td>\n",
       "      <td>-2.197</td>\n",
       "    </tr>\n",
       "    <tr>\n",
       "      <th>3</th>\n",
       "      <td>0.000</td>\n",
       "      <td>38.856</td>\n",
       "      <td>0.435</td>\n",
       "      <td>-2.395</td>\n",
       "      <td>-0.292</td>\n",
       "      <td>-0.184</td>\n",
       "      <td>-0.248</td>\n",
       "    </tr>\n",
       "    <tr>\n",
       "      <th>4</th>\n",
       "      <td>-0.233</td>\n",
       "      <td>42.890</td>\n",
       "      <td>-0.495</td>\n",
       "      <td>-7.477</td>\n",
       "      <td>-0.434</td>\n",
       "      <td>-4.914</td>\n",
       "      <td>-1.506</td>\n",
       "    </tr>\n",
       "    <tr>\n",
       "      <th>...</th>\n",
       "      <td>...</td>\n",
       "      <td>...</td>\n",
       "      <td>...</td>\n",
       "      <td>...</td>\n",
       "      <td>...</td>\n",
       "      <td>...</td>\n",
       "      <td>...</td>\n",
       "    </tr>\n",
       "    <tr>\n",
       "      <th>11666</th>\n",
       "      <td>0.000</td>\n",
       "      <td>46.926</td>\n",
       "      <td>-0.274</td>\n",
       "      <td>15.565</td>\n",
       "      <td>-0.387</td>\n",
       "      <td>-6.155</td>\n",
       "      <td>-1.581</td>\n",
       "    </tr>\n",
       "    <tr>\n",
       "      <th>11667</th>\n",
       "      <td>0.000</td>\n",
       "      <td>52.175</td>\n",
       "      <td>-4.940</td>\n",
       "      <td>-5.882</td>\n",
       "      <td>-0.330</td>\n",
       "      <td>-2.854</td>\n",
       "      <td>-1.508</td>\n",
       "    </tr>\n",
       "    <tr>\n",
       "      <th>11668</th>\n",
       "      <td>0.000</td>\n",
       "      <td>21.695</td>\n",
       "      <td>3.440</td>\n",
       "      <td>4.349</td>\n",
       "      <td>-0.451</td>\n",
       "      <td>-0.201</td>\n",
       "      <td>-0.281</td>\n",
       "    </tr>\n",
       "    <tr>\n",
       "      <th>11669</th>\n",
       "      <td>-1.000</td>\n",
       "      <td>18.699</td>\n",
       "      <td>2.890</td>\n",
       "      <td>-3.509</td>\n",
       "      <td>-0.314</td>\n",
       "      <td>0.173</td>\n",
       "      <td>0.354</td>\n",
       "    </tr>\n",
       "    <tr>\n",
       "      <th>11670</th>\n",
       "      <td>0.000</td>\n",
       "      <td>34.704</td>\n",
       "      <td>0.642</td>\n",
       "      <td>0.444</td>\n",
       "      <td>-0.660</td>\n",
       "      <td>-0.394</td>\n",
       "      <td>-0.482</td>\n",
       "    </tr>\n",
       "  </tbody>\n",
       "</table>\n",
       "<p>11018 rows × 7 columns</p>\n",
       "</div>"
      ],
      "text/plain": [
       "       delta_dd5_wt_lag3  avg_for_con  delta_for_age  delta_for_con  \\\n",
       "0                  0.000       31.223         -4.302          1.374   \n",
       "1                  0.000       37.430          3.385         -3.895   \n",
       "2                  0.000       34.607         -6.306         -4.851   \n",
       "3                  0.000       38.856          0.435         -2.395   \n",
       "4                 -0.233       42.890         -0.495         -7.477   \n",
       "...                  ...          ...            ...            ...   \n",
       "11666              0.000       46.926         -0.274         15.565   \n",
       "11667              0.000       52.175         -4.940         -5.882   \n",
       "11668              0.000       21.695          3.440          4.349   \n",
       "11669             -1.000       18.699          2.890         -3.509   \n",
       "11670              0.000       34.704          0.642          0.444   \n",
       "\n",
       "       cmi_sm_cqv  max_cmi_sm_rel30  max_cmi_sm_rel30_reg  \n",
       "0          -0.405            -6.477                -1.761  \n",
       "1          -0.440            -1.612                -1.026  \n",
       "2          -0.939            -8.577                -2.197  \n",
       "3          -0.292            -0.184                -0.248  \n",
       "4          -0.434            -4.914                -1.506  \n",
       "...           ...               ...                   ...  \n",
       "11666      -0.387            -6.155                -1.581  \n",
       "11667      -0.330            -2.854                -1.508  \n",
       "11668      -0.451            -0.201                -0.281  \n",
       "11669      -0.314             0.173                 0.354  \n",
       "11670      -0.660            -0.394                -0.482  \n",
       "\n",
       "[11018 rows x 7 columns]"
      ]
     },
     "execution_count": 135,
     "metadata": {},
     "output_type": "execute_result"
    }
   ],
   "source": [
    "# run VIF function created above\n",
    "removeMultiColl(X2)"
   ]
  },
  {
   "cell_type": "code",
   "execution_count": 136,
   "id": "6ff66ccc",
   "metadata": {},
   "outputs": [],
   "source": [
    "# Vars kept\n",
    "#col1 = ['for_con', 'cmi_sm', 'cmi_sm_lag1', 'cmi_sm_lag2', 'cmi_sm_lag3', 'dd5_wt', 'nffd_wt', 'nffd_wt_lag1', 'nffd_wt_lag2', 'nffd_wt_lag3', 'pas_sm', 'pas_sm_lag1', 'pas_sm_lag2', 'pas_sm_lag3']\n",
    "#col1 = ['delta_dd5_wt_lag3', 'delta_cmi_sm_lag2', 'delta_cmi_sm_lag1', 'delta_for_age', 'delta_for_con']\n",
    "#col1 = ['delta_dd5_wt_lag3', 'avg_for_con', 'delta_for_age', 'delta_for_con', 'cmi_sm_cqv', 'min_cmi_sm_rel30', 'max_cmi_sm_rel30_reg'] # some relative values were outliers due to very small (almost zero) normals\n",
    "#col1 =  ['delta_dd5_wt_lag3', 'avg_for_con', 'delta_for_age', 'delta_for_con', 'max_cmi_sm_rel', 'cmi_sm_cqv', 'max_cmi_sm_rel30'] # after filtering out outliers (pos & neg) we have slight differences vars\n",
    "#col1 = ['delta_dd5_wt_lag3', 'avg_for_con', 'delta_for_age', 'delta_for_con', 'cmi_sm_cqv', 'max_cmi_sm_rel30', 'max_cmi_sm_rel30_reg'] # remove outliers drops too many vars\n",
    "#col1 = ['delta_dd5_wt_lag3', 'avg_for_con', 'delta_for_age', 'delta_for_con', 'cmi_sm_cqv', 'min_cmi_sm_rel30', 'max_cmi_sm_rel30_reg']\n",
    "col1 = ['delta_dd5_wt_lag3', 'avg_for_con', 'delta_for_age', 'delta_for_con', 'cmi_sm_cqv', 'max_cmi_sm_rel30', 'max_cmi_sm_rel30_reg']"
   ]
  },
  {
   "cell_type": "code",
   "execution_count": 28,
   "id": "e89e45c8",
   "metadata": {},
   "outputs": [],
   "source": [
    "# this excludes the faulty seasonal vars\n",
    "#removeMultiColl(X22)"
   ]
  },
  {
   "cell_type": "code",
   "execution_count": 81,
   "id": "2267cac3",
   "metadata": {},
   "outputs": [],
   "source": [
    "# Vars kept\n",
    "# with v3.csv file\n",
    "#cols1 =  ['for_con', 'cmi_sm', 'cmi_sm_lag1', 'cmi_sm_lag2', 'cmi_sm_lag3', 'dd5_wt_lag1', 'dd5_wt_lag3']"
   ]
  },
  {
   "cell_type": "code",
   "execution_count": 77,
   "id": "a99e92b6",
   "metadata": {},
   "outputs": [],
   "source": [
    "# These are the vars used in the first run of XGBoost models (not including for_pro_0 as it is categorical and skewed)\n",
    "#cols1 =['for_age', 'for_con', 'map', 'map_lag1', 'map_lag2', 'map_lag3', 'mat', 'mat_lag1', 'mat_lag2', 'mat_lag3', 'rh', 'rh_lag1', 'rh_lag2', 'rh_lag3']\n",
    "#X23 = X1[cols1]\n",
    "\n",
    "#X23 = X23.dropna()"
   ]
  },
  {
   "cell_type": "code",
   "execution_count": 76,
   "id": "bd673025",
   "metadata": {},
   "outputs": [],
   "source": [
    "#print(X23.describe)"
   ]
  },
  {
   "cell_type": "code",
   "execution_count": 29,
   "id": "1b72307d",
   "metadata": {
    "scrolled": true
   },
   "outputs": [],
   "source": [
    "# this excludes the faulty seasonal vars\n",
    "#removeMultiColl(X23)"
   ]
  },
  {
   "cell_type": "code",
   "execution_count": null,
   "id": "cd60c014",
   "metadata": {},
   "outputs": [],
   "source": [
    "# Vars kept\n",
    "# Origianl vars kept after VIF. Only two kept meaning my model could be simpler but non-informative.\n",
    "#cols1= ['for_con', 'mat']"
   ]
  },
  {
   "cell_type": "code",
   "execution_count": 79,
   "id": "8a8a58ac",
   "metadata": {},
   "outputs": [],
   "source": [
    "# MJF asked to run a new VIF with old vars (except elevation and conifer instead od deciduos) and the VIF subset (no for_pro_0 as it is categorical and skewed or problematic vars - with too many nulls or questionable range)\n",
    "#cols1 =['for_age', 'for_con', 'map', 'map_lag1', 'map_lag2', 'map_lag3', 'mat', 'mat_lag1', 'mat_lag2', 'mat_lag3', 'rh', 'rh_lag1', 'rh_lag2', 'rh_lag3', 'cmi_sm', 'cmi_sm_lag1', 'cmi_sm_lag2', 'cmi_sm_lag3', 'dd5_wt_lag1', 'dd5_wt_lag3']\n",
    "#X24 = X1[cols1]\n",
    "\n",
    "#X24 = X24.dropna()"
   ]
  },
  {
   "cell_type": "code",
   "execution_count": 30,
   "id": "fa591bd0",
   "metadata": {
    "scrolled": true
   },
   "outputs": [],
   "source": [
    "# this excludes the faulty seasonal vars\n",
    "#removeMultiColl(X24)"
   ]
  },
  {
   "cell_type": "code",
   "execution_count": null,
   "id": "020811a4",
   "metadata": {},
   "outputs": [],
   "source": [
    "# MJF's request, X24\n",
    "# There are the variables kept, which are the same as those of X2 which was run with all the universe of variables except for_pro and problematic vars.\n",
    "# cols1 = ['for_con', 'cmi_sm', 'cmi_sm_lag1', 'cmi_sm_lag2', 'cmi_sm_lag3', 'dd5_wt_lag1', 'dd5_wt_lag3']"
   ]
  },
  {
   "cell_type": "code",
   "execution_count": 137,
   "id": "bb4db2d8",
   "metadata": {
    "scrolled": true
   },
   "outputs": [
    {
     "data": {
      "text/html": [
       "<div>\n",
       "<style scoped>\n",
       "    .dataframe tbody tr th:only-of-type {\n",
       "        vertical-align: middle;\n",
       "    }\n",
       "\n",
       "    .dataframe tbody tr th {\n",
       "        vertical-align: top;\n",
       "    }\n",
       "\n",
       "    .dataframe thead th {\n",
       "        text-align: right;\n",
       "    }\n",
       "</style>\n",
       "<table border=\"1\" class=\"dataframe\">\n",
       "  <thead>\n",
       "    <tr style=\"text-align: right;\">\n",
       "      <th></th>\n",
       "      <th>delta_dd5_wt_lag3</th>\n",
       "      <th>avg_for_con</th>\n",
       "      <th>delta_for_age</th>\n",
       "      <th>delta_for_con</th>\n",
       "      <th>cmi_sm_cqv</th>\n",
       "      <th>max_cmi_sm_rel30</th>\n",
       "      <th>max_cmi_sm_rel30_reg</th>\n",
       "    </tr>\n",
       "  </thead>\n",
       "  <tbody>\n",
       "    <tr>\n",
       "      <th>count</th>\n",
       "      <td>11018.000000</td>\n",
       "      <td>11018.000000</td>\n",
       "      <td>11018.000000</td>\n",
       "      <td>11018.000000</td>\n",
       "      <td>11018.000000</td>\n",
       "      <td>11018.000000</td>\n",
       "      <td>11018.000000</td>\n",
       "    </tr>\n",
       "    <tr>\n",
       "      <th>mean</th>\n",
       "      <td>-0.154906</td>\n",
       "      <td>34.932666</td>\n",
       "      <td>2.950059</td>\n",
       "      <td>-0.531508</td>\n",
       "      <td>-0.658328</td>\n",
       "      <td>-3.846871</td>\n",
       "      <td>-0.692767</td>\n",
       "    </tr>\n",
       "    <tr>\n",
       "      <th>std</th>\n",
       "      <td>0.362338</td>\n",
       "      <td>13.675361</td>\n",
       "      <td>7.140861</td>\n",
       "      <td>4.877104</td>\n",
       "      <td>0.581310</td>\n",
       "      <td>86.086201</td>\n",
       "      <td>0.959587</td>\n",
       "    </tr>\n",
       "    <tr>\n",
       "      <th>min</th>\n",
       "      <td>-1.000000</td>\n",
       "      <td>1.403000</td>\n",
       "      <td>-26.428000</td>\n",
       "      <td>-23.296000</td>\n",
       "      <td>-35.800000</td>\n",
       "      <td>-570.700000</td>\n",
       "      <td>-2.923000</td>\n",
       "    </tr>\n",
       "    <tr>\n",
       "      <th>25%</th>\n",
       "      <td>0.000000</td>\n",
       "      <td>24.047250</td>\n",
       "      <td>-1.522250</td>\n",
       "      <td>-3.416500</td>\n",
       "      <td>-0.804000</td>\n",
       "      <td>-2.742500</td>\n",
       "      <td>-1.493000</td>\n",
       "    </tr>\n",
       "    <tr>\n",
       "      <th>50%</th>\n",
       "      <td>0.000000</td>\n",
       "      <td>33.354500</td>\n",
       "      <td>2.788000</td>\n",
       "      <td>-0.393500</td>\n",
       "      <td>-0.538000</td>\n",
       "      <td>-0.564500</td>\n",
       "      <td>-0.594500</td>\n",
       "    </tr>\n",
       "    <tr>\n",
       "      <th>75%</th>\n",
       "      <td>0.000000</td>\n",
       "      <td>44.057250</td>\n",
       "      <td>7.450000</td>\n",
       "      <td>2.462000</td>\n",
       "      <td>-0.369000</td>\n",
       "      <td>0.091000</td>\n",
       "      <td>0.015750</td>\n",
       "    </tr>\n",
       "    <tr>\n",
       "      <th>max</th>\n",
       "      <td>1.000000</td>\n",
       "      <td>83.483000</td>\n",
       "      <td>43.836000</td>\n",
       "      <td>22.677000</td>\n",
       "      <td>-0.089000</td>\n",
       "      <td>585.400000</td>\n",
       "      <td>1.843000</td>\n",
       "    </tr>\n",
       "  </tbody>\n",
       "</table>\n",
       "</div>"
      ],
      "text/plain": [
       "       delta_dd5_wt_lag3   avg_for_con  delta_for_age  delta_for_con  \\\n",
       "count       11018.000000  11018.000000   11018.000000   11018.000000   \n",
       "mean           -0.154906     34.932666       2.950059      -0.531508   \n",
       "std             0.362338     13.675361       7.140861       4.877104   \n",
       "min            -1.000000      1.403000     -26.428000     -23.296000   \n",
       "25%             0.000000     24.047250      -1.522250      -3.416500   \n",
       "50%             0.000000     33.354500       2.788000      -0.393500   \n",
       "75%             0.000000     44.057250       7.450000       2.462000   \n",
       "max             1.000000     83.483000      43.836000      22.677000   \n",
       "\n",
       "         cmi_sm_cqv  max_cmi_sm_rel30  max_cmi_sm_rel30_reg  \n",
       "count  11018.000000      11018.000000          11018.000000  \n",
       "mean      -0.658328         -3.846871             -0.692767  \n",
       "std        0.581310         86.086201              0.959587  \n",
       "min      -35.800000       -570.700000             -2.923000  \n",
       "25%       -0.804000         -2.742500             -1.493000  \n",
       "50%       -0.538000         -0.564500             -0.594500  \n",
       "75%       -0.369000          0.091000              0.015750  \n",
       "max       -0.089000        585.400000              1.843000  "
      ]
     },
     "execution_count": 137,
     "metadata": {},
     "output_type": "execute_result"
    }
   ],
   "source": [
    "#import numpy as np\n",
    "\n",
    "# Vars kept by VIF + ...\n",
    "#cols1 =  ['delta_dd5_wt_lag3', 'delta_cmi_sm_lag2', 'delta_cmi_sm_lag1', 'delta_for_age', 'delta_for_con']\n",
    "#col1 =  ['delta_dd5_wt_lag3', 'avg_for_con', 'delta_for_age', 'delta_for_con', 'max_cmi_sm_rel', 'cmi_sm_cqv', 'max_cmi_sm_rel30']\n",
    "#col1 = ['delta_dd5_wt_lag3', 'avg_for_con', 'delta_for_age', 'delta_for_con', 'cmi_sm_cqv', 'max_cmi_sm_rel30', 'max_cmi_sm_rel30_reg']\n",
    "X3 = X2[col1]\n",
    "\n",
    "X3.describe()\n",
    "#X3.head()\n",
    "#X3.tail()"
   ]
  },
  {
   "cell_type": "code",
   "execution_count": 138,
   "id": "094799e1",
   "metadata": {
    "scrolled": true
   },
   "outputs": [
    {
     "data": {
      "text/plain": [
       "array([[<Axes: title={'center': 'max_cmi_sm_rel30'}>]], dtype=object)"
      ]
     },
     "execution_count": 138,
     "metadata": {},
     "output_type": "execute_result"
    },
    {
     "data": {
      "image/png": "[encoded data removed]",
      "text/plain": [
       "<Figure size 640x480 with 1 Axes>"
      ]
     },
     "metadata": {},
     "output_type": "display_data"
    }
   ],
   "source": [
    "# histogram of VIF vars\n",
    "#X3.hist(bins=10)\n",
    "#X3.hist(column='cmi_sm_cqv', bins=10)\n",
    "X3.hist(column='max_cmi_sm_rel30', bins=10)\n"
   ]
  },
  {
   "cell_type": "code",
   "execution_count": 71,
   "id": "08bde417",
   "metadata": {},
   "outputs": [
    {
     "data": {
      "text/plain": [
       "count    11474.000000\n",
       "mean        17.712952\n",
       "std        363.354083\n",
       "min        -99.959000\n",
       "25%          3.812000\n",
       "50%          5.941000\n",
       "75%         10.830750\n",
       "max      36170.539000\n",
       "Name: min_cmi_sm_rel30, dtype: float64"
      ]
     },
     "execution_count": 71,
     "metadata": {},
     "output_type": "execute_result"
    }
   ],
   "source": [
    "#X22 = df1.loc[(df1['min_cmi_sm_rel30'] >= -100)]\n",
    "#X22[cols1].describe()\n",
    "#X22['min_cmi_sm_rel30'] .describe()"
   ]
  },
  {
   "cell_type": "code",
   "execution_count": 139,
   "id": "e6a90946",
   "metadata": {},
   "outputs": [
    {
     "data": {
      "text/html": [
       "<div>\n",
       "<style scoped>\n",
       "    .dataframe tbody tr th:only-of-type {\n",
       "        vertical-align: middle;\n",
       "    }\n",
       "\n",
       "    .dataframe tbody tr th {\n",
       "        vertical-align: top;\n",
       "    }\n",
       "\n",
       "    .dataframe thead th {\n",
       "        text-align: right;\n",
       "    }\n",
       "</style>\n",
       "<table border=\"1\" class=\"dataframe\">\n",
       "  <thead>\n",
       "    <tr style=\"text-align: right;\">\n",
       "      <th></th>\n",
       "      <th>delta_dd5_wt_lag3</th>\n",
       "      <th>avg_for_con</th>\n",
       "      <th>delta_for_age</th>\n",
       "      <th>delta_for_con</th>\n",
       "      <th>cmi_sm_cqv</th>\n",
       "      <th>max_cmi_sm_rel30</th>\n",
       "      <th>max_cmi_sm_rel30_reg</th>\n",
       "    </tr>\n",
       "  </thead>\n",
       "  <tbody>\n",
       "    <tr>\n",
       "      <th>count</th>\n",
       "      <td>10372.000000</td>\n",
       "      <td>10372.000000</td>\n",
       "      <td>10372.000000</td>\n",
       "      <td>10372.000000</td>\n",
       "      <td>10372.000000</td>\n",
       "      <td>10372.000000</td>\n",
       "      <td>10372.000000</td>\n",
       "    </tr>\n",
       "    <tr>\n",
       "      <th>mean</th>\n",
       "      <td>-0.152415</td>\n",
       "      <td>34.982331</td>\n",
       "      <td>3.040538</td>\n",
       "      <td>-0.596935</td>\n",
       "      <td>-0.606196</td>\n",
       "      <td>-2.040775</td>\n",
       "      <td>-0.619671</td>\n",
       "    </tr>\n",
       "    <tr>\n",
       "      <th>std</th>\n",
       "      <td>0.351073</td>\n",
       "      <td>13.574149</td>\n",
       "      <td>6.830778</td>\n",
       "      <td>4.641768</td>\n",
       "      <td>0.325821</td>\n",
       "      <td>7.518420</td>\n",
       "      <td>0.909270</td>\n",
       "    </tr>\n",
       "    <tr>\n",
       "      <th>min</th>\n",
       "      <td>-1.000000</td>\n",
       "      <td>1.403000</td>\n",
       "      <td>-18.339000</td>\n",
       "      <td>-15.071000</td>\n",
       "      <td>-2.399000</td>\n",
       "      <td>-54.159000</td>\n",
       "      <td>-2.789000</td>\n",
       "    </tr>\n",
       "    <tr>\n",
       "      <th>25%</th>\n",
       "      <td>0.000000</td>\n",
       "      <td>24.176250</td>\n",
       "      <td>-1.385250</td>\n",
       "      <td>-3.462000</td>\n",
       "      <td>-0.776000</td>\n",
       "      <td>-2.471250</td>\n",
       "      <td>-1.341500</td>\n",
       "    </tr>\n",
       "    <tr>\n",
       "      <th>50%</th>\n",
       "      <td>0.000000</td>\n",
       "      <td>33.410500</td>\n",
       "      <td>2.893000</td>\n",
       "      <td>-0.479500</td>\n",
       "      <td>-0.525000</td>\n",
       "      <td>-0.569000</td>\n",
       "      <td>-0.551000</td>\n",
       "    </tr>\n",
       "    <tr>\n",
       "      <th>75%</th>\n",
       "      <td>0.000000</td>\n",
       "      <td>44.108750</td>\n",
       "      <td>7.476500</td>\n",
       "      <td>2.363000</td>\n",
       "      <td>-0.363000</td>\n",
       "      <td>0.066250</td>\n",
       "      <td>0.037250</td>\n",
       "    </tr>\n",
       "    <tr>\n",
       "      <th>max</th>\n",
       "      <td>0.925000</td>\n",
       "      <td>75.654000</td>\n",
       "      <td>24.289000</td>\n",
       "      <td>14.097000</td>\n",
       "      <td>-0.089000</td>\n",
       "      <td>56.448000</td>\n",
       "      <td>1.843000</td>\n",
       "    </tr>\n",
       "  </tbody>\n",
       "</table>\n",
       "</div>"
      ],
      "text/plain": [
       "       delta_dd5_wt_lag3   avg_for_con  delta_for_age  delta_for_con  \\\n",
       "count       10372.000000  10372.000000   10372.000000   10372.000000   \n",
       "mean           -0.152415     34.982331       3.040538      -0.596935   \n",
       "std             0.351073     13.574149       6.830778       4.641768   \n",
       "min            -1.000000      1.403000     -18.339000     -15.071000   \n",
       "25%             0.000000     24.176250      -1.385250      -3.462000   \n",
       "50%             0.000000     33.410500       2.893000      -0.479500   \n",
       "75%             0.000000     44.108750       7.476500       2.363000   \n",
       "max             0.925000     75.654000      24.289000      14.097000   \n",
       "\n",
       "         cmi_sm_cqv  max_cmi_sm_rel30  max_cmi_sm_rel30_reg  \n",
       "count  10372.000000      10372.000000          10372.000000  \n",
       "mean      -0.606196         -2.040775             -0.619671  \n",
       "std        0.325821          7.518420              0.909270  \n",
       "min       -2.399000        -54.159000             -2.789000  \n",
       "25%       -0.776000         -2.471250             -1.341500  \n",
       "50%       -0.525000         -0.569000             -0.551000  \n",
       "75%       -0.363000          0.066250              0.037250  \n",
       "max       -0.089000         56.448000              1.843000  "
      ]
     },
     "execution_count": 139,
     "metadata": {},
     "output_type": "execute_result"
    }
   ],
   "source": [
    "# Remove outliers from VIF vars\n",
    "# https://stackoverflow.com/questions/23199796/detect-and-exclude-outliers-in-a-pandas-dataframe\n",
    "#import pandas as pd\n",
    "#import numpy as np\n",
    "from scipy import stats\n",
    "\n",
    "#df = pd.DataFrame(np.random.randn(100, 3))\n",
    "\n",
    "X4 = X3[(np.abs(stats.zscore(X3)) < 3).all(axis=1)] # all vars\n",
    "X4.describe()"
   ]
  },
  {
   "cell_type": "code",
   "execution_count": 142,
   "id": "bc985d57",
   "metadata": {},
   "outputs": [],
   "source": [
    "# create correlation map\n",
    "import matplotlib.pyplot as plt\n",
    "import seaborn as sns\n",
    "\n",
    "# Define function    \n",
    "def correlation_heatmap(X):\n",
    "    correlations = X.corr()\n",
    "\n",
    "    fig, ax = plt.subplots(figsize=(10,10))\n",
    "    sns.heatmap(correlations, vmax=1.0, center=0, fmt='.2f', cmap=\"YlGnBu\",\n",
    "                square=True, linewidths=.5, annot=True, cbar_kws={\"shrink\": .70}\n",
    "                )\n"
   ]
  },
  {
   "cell_type": "code",
   "execution_count": 143,
   "id": "101b8924",
   "metadata": {},
   "outputs": [
    {
     "data": {
      "image/png": "[encoded data removed]",
      "text/plain": [
       "<Figure size 1000x1000 with 2 Axes>"
      ]
     },
     "metadata": {},
     "output_type": "display_data"
    }
   ],
   "source": [
    "# Create correlation plot\n",
    "\n",
    "#features_names1 = ['delta_dd5_wt_lag3', 'delta_cmi_sm_lag2', 'delta_cmi_sm_lag1', 'delta_for_age', 'delta_for_con']\n",
    "features_names1 = col1\n",
    "\n",
    "#correlation_heatmap(X1[features_names1])\n",
    "correlation_heatmap(X4[features_names1])\n",
    "#sorted_idx = xgb.feature_importances_.argsort()\n",
    "\n",
    "plt.savefig(r'.\\figs\\correlation5_v2.png',  dpi=300, bbox_inches='tight')\n"
   ]
  },
  {
   "cell_type": "markdown",
   "id": "e67f4082",
   "metadata": {},
   "source": [
    "#### Create variable list for XGB models\n",
    "\n",
    "I decided to use _v3.csv files as the match rationale between breaks and climate variables seems more robust. These files have less null records than previous versions excpect for for_age and for_con. These vars forest age and composition were derived from a new approach using Beaudoin et al. and Hermosilla et. al data sets.\n",
    "\n",
    "I am leaving out variables that were initially selected by VIF but whose range of values is dubious (e.g., 'nffd_wt', 'nffd_wt_lag1', 'nffd_wt_lag2', 'nffd_wt_lag3', 'pas_sm', 'pas_sm_lag1', 'pas_sm_lag2', 'pas_sm_lag3'). It seems Climate NA can not downscale these metrics in a robust way. Also, I am leaving out climate variables with too many nulls (e.g. rad which had many -9999 values).\n",
    "\n",
    "Also, I only need to include one of for_pro_0 or for_pro_1 in my models but not both. Given that the former has more records with 1  values I will use it.\n",
    "\n",
    "#####  Variable selection after running VIF\n",
    "\n",
    "- Vars0: Original vars (14 vars) expect elevation and deciduous has been replaced by conifers\n",
    "\n",
    "cols1 =['for_age', 'for_con', 'map', 'map_lag1', 'map_lag2', 'map_lag3', 'mat', 'mat_lag1', 'mat_lag2', 'mat_lag3', 'rh', 'rh_lag1', 'rh_lag2', 'rh_lag3', 'for_pro_0']\n",
    "\n",
    "- Vars1: Using all 100+ vars, X2 df above\n",
    "\n",
    "cols1 = ['for_con', 'cmi_sm', 'cmi_sm_lag1', 'cmi_sm_lag2', 'cmi_sm_lag3', 'dd5_wt', 'nffd_wt', 'nffd_wt_lag1', 'nffd_wt_lag2', 'nffd_wt_lag3', 'pas_sm', 'pas_sm_lag1', 'pas_sm_lag2', 'pas_sm_lag3']\n",
    "\n",
    "- Vars2: Using all 100+ vars minues problematic vars (too many nulls: rad vars; stange range: nffd, pas).  X22 df above\n",
    "\n",
    "cols1 = ['for_con', 'cmi_sm', 'cmi_sm_lag1', 'cmi_sm_lag2', 'cmi_sm_lag3', 'dd5_wt_lag1', 'dd5_wt_lag3']\n",
    "\n",
    "- Vars3: Using all vars in first XGB models (In the first model I kept all vars with R <0.5). Initial number of vars 14. X23 df above\n",
    "\n",
    "cols1= ['for_con', 'mat']\n",
    "\n",
    "- Vars4: Vars2 from above + for_age, for_pro_0\n",
    "\n",
    "cols1 = ['for_con', 'cmi_sm', 'cmi_sm_lag1', 'cmi_sm_lag2', 'cmi_sm_lag3', 'dd5_wt_lag1', 'dd5_wt_lag3', 'for_age', 'for_pro_0']\n",
    "\n",
    "- Vars5: MJF's request. Original XGB run vars (14) + Vars2.  But at the ends the same vars as in Vars2 are left.\n",
    "\n",
    "cols1 =  ['for_con', 'cmi_sm', 'cmi_sm_lag1', 'cmi_sm_lag2', 'cmi_sm_lag3', 'dd5_wt_lag1', 'dd5_wt_lag3']\n",
    "\n",
    "In my XGB models, I will only run Vars0, Vars2, and Vars4. I will run a standard run with all records and a subset run with only records that do not have a match with disturbance data (Hansen et al.)\n"
   ]
  },
  {
   "cell_type": "code",
   "execution_count": 40,
   "id": "21ba4f41",
   "metadata": {},
   "outputs": [],
   "source": [
    "# Df 1: All vars form original XGB model \n",
    "# done already\n",
    "cols1 = ['p1_trend_slope','delta_dd5_wt_lag3', 'delta_cmi_sm_lag2', 'delta_cmi_sm_lag1', 'delta_for_age', 'delta_for_con','for_pro_0']\n"
   ]
  },
  {
   "cell_type": "code",
   "execution_count": 89,
   "id": "c1738feb",
   "metadata": {},
   "outputs": [],
   "source": [
    "# Df 2: VIF subset only\n",
    "#cols2 = ['for_con', 'cmi_sm', 'cmi_sm_lag1', 'cmi_sm_lag2', 'cmi_sm_lag3', 'dd5_wt_lag1', 'dd5_wt_lag3']\n"
   ]
  },
  {
   "cell_type": "code",
   "execution_count": 96,
   "id": "33fa9d36",
   "metadata": {},
   "outputs": [],
   "source": [
    "# Df 3: VIF subset + for_age, for_pro_0 \n",
    "#cols3 = ['for_con', 'cmi_sm', 'cmi_sm_lag1', 'cmi_sm_lag2', 'cmi_sm_lag3', 'dd5_wt_lag1', 'dd5_wt_lag3', 'for_age', 'for_pro_0']\n"
   ]
  },
  {
   "cell_type": "code",
   "execution_count": 41,
   "id": "64941b2f",
   "metadata": {},
   "outputs": [
    {
     "name": "stdout",
     "output_type": "stream",
     "text": [
      "<bound method NDFrame.describe of        p1_trend_slope  delta_dd5_wt_lag3  delta_cmi_sm_lag2  \\\n",
      "0               3.916              0.000              4.271   \n",
      "1               4.678              0.000              4.450   \n",
      "2               4.386              0.000              5.069   \n",
      "3               4.772              0.000              4.086   \n",
      "4               2.940             -0.233              3.334   \n",
      "...               ...                ...                ...   \n",
      "11666           5.551              0.000              4.469   \n",
      "11667           8.252             -1.000              4.963   \n",
      "11668           6.353              0.000              6.525   \n",
      "11669           7.075              0.000              6.568   \n",
      "11670           6.525              0.000              5.735   \n",
      "\n",
      "       delta_cmi_sm_lag1  delta_for_age  delta_for_con  for_pro_0  \n",
      "0                  7.300         -4.302          1.374        1.0  \n",
      "1                  6.500          3.385         -3.895        1.0  \n",
      "2                  8.254         -6.306         -4.851        1.0  \n",
      "3                  5.727          0.435         -2.395        1.0  \n",
      "4                  5.967         -0.495         -7.477        0.0  \n",
      "...                  ...            ...            ...        ...  \n",
      "11666              7.680          3.854          1.711        1.0  \n",
      "11667              4.781          3.303         -9.480        1.0  \n",
      "11668              1.507          7.811         -1.697        1.0  \n",
      "11669             -0.539          8.646         -0.780        1.0  \n",
      "11670             -2.015          2.476         -9.003        1.0  \n",
      "\n",
      "[11671 rows x 7 columns]>\n"
     ]
    }
   ],
   "source": [
    "# Here I test whether the right columns are selected and the df is properly created.\n",
    "\n",
    "df2 = pd.read_csv(r'.\\data\\df2_trends_p1_vars_greening_v1.csv', skipinitialspace=True)\n",
    "#df2.head()\n",
    "\n",
    "# create non-protected dummy variable \n",
    "df3 = pd.get_dummies(df2, columns=['for_pro'], dtype=float)\n",
    "#cols2 = ['for_age','for_con', 'cmi_sm', 'cmi_sm_lag1', 'cmi_sm_lag2', 'cmi_sm_lag3', 'dd5_wt', 'nffd_wt', 'nffd_wt_lag1', 'nffd_wt_lag2', 'nffd_wt_lag3', 'pas_sm', 'pas_sm_lag1', 'pas_sm_lag2', 'pas_sm_lag3', 'for_pro_0', 'for_pro_1']\n",
    "\n",
    "# select columns for model\n",
    "X6 = df3[cols1]\n",
    "\n",
    "print(X6.describe)\n",
    "#print(X6.head())"
   ]
  },
  {
   "cell_type": "code",
   "execution_count": 42,
   "id": "7867791c",
   "metadata": {},
   "outputs": [
    {
     "data": {
      "text/plain": [
       "p1_trend_slope         0\n",
       "delta_dd5_wt_lag3     56\n",
       "delta_cmi_sm_lag2     56\n",
       "delta_cmi_sm_lag1     56\n",
       "delta_for_age        602\n",
       "delta_for_con        602\n",
       "for_pro_0              0\n",
       "dtype: int64"
      ]
     },
     "execution_count": 42,
     "metadata": {},
     "output_type": "execute_result"
    }
   ],
   "source": [
    "# Count NAs per columns. These NAs are correct as nan. the rad variables above had -9999 values which could have biased the results.\n",
    "# Hence, the rad vars were dropped.\n",
    "X6.isna().sum()\n"
   ]
  },
  {
   "cell_type": "code",
   "execution_count": 43,
   "id": "ccd15bc8",
   "metadata": {},
   "outputs": [
    {
     "data": {
      "text/plain": [
       "(11671, 7)"
      ]
     },
     "execution_count": 43,
     "metadata": {},
     "output_type": "execute_result"
    }
   ],
   "source": [
    "X6.shape\n"
   ]
  },
  {
   "cell_type": "code",
   "execution_count": 46,
   "id": "b5acd556",
   "metadata": {},
   "outputs": [
    {
     "data": {
      "text/plain": [
       "p1_trend_slope       0\n",
       "delta_dd5_wt_lag3    0\n",
       "delta_cmi_sm_lag2    0\n",
       "delta_cmi_sm_lag1    0\n",
       "delta_for_age        0\n",
       "delta_for_con        0\n",
       "for_pro_0            0\n",
       "dtype: int64"
      ]
     },
     "execution_count": 46,
     "metadata": {},
     "output_type": "execute_result"
    }
   ],
   "source": [
    "# drop rows with NAs (-9999.0 converted to nan) to run VIF below not for XGB model as XGB can handle NULLs\n",
    "X7 = X6.dropna()\n",
    "X7.shape\n",
    "X7.isna().sum() # No NAs remaining"
   ]
  },
  {
   "cell_type": "code",
   "execution_count": 47,
   "id": "cf93423f",
   "metadata": {},
   "outputs": [
    {
     "data": {
      "text/html": [
       "<div>\n",
       "<style scoped>\n",
       "    .dataframe tbody tr th:only-of-type {\n",
       "        vertical-align: middle;\n",
       "    }\n",
       "\n",
       "    .dataframe tbody tr th {\n",
       "        vertical-align: top;\n",
       "    }\n",
       "\n",
       "    .dataframe thead th {\n",
       "        text-align: right;\n",
       "    }\n",
       "</style>\n",
       "<table border=\"1\" class=\"dataframe\">\n",
       "  <thead>\n",
       "    <tr style=\"text-align: right;\">\n",
       "      <th></th>\n",
       "      <th>p1_trend_slope</th>\n",
       "      <th>delta_dd5_wt_lag3</th>\n",
       "      <th>delta_cmi_sm_lag2</th>\n",
       "      <th>delta_cmi_sm_lag1</th>\n",
       "      <th>delta_for_age</th>\n",
       "      <th>delta_for_con</th>\n",
       "      <th>for_pro_0</th>\n",
       "    </tr>\n",
       "  </thead>\n",
       "  <tbody>\n",
       "    <tr>\n",
       "      <th>count</th>\n",
       "      <td>11018.000000</td>\n",
       "      <td>11018.000000</td>\n",
       "      <td>11018.000000</td>\n",
       "      <td>11018.000000</td>\n",
       "      <td>11018.000000</td>\n",
       "      <td>11018.000000</td>\n",
       "      <td>11018.000000</td>\n",
       "    </tr>\n",
       "    <tr>\n",
       "      <th>mean</th>\n",
       "      <td>4.110994</td>\n",
       "      <td>-0.154906</td>\n",
       "      <td>4.848699</td>\n",
       "      <td>3.800561</td>\n",
       "      <td>2.950059</td>\n",
       "      <td>-0.531508</td>\n",
       "      <td>0.860047</td>\n",
       "    </tr>\n",
       "    <tr>\n",
       "      <th>std</th>\n",
       "      <td>1.003916</td>\n",
       "      <td>0.362338</td>\n",
       "      <td>1.235435</td>\n",
       "      <td>2.949837</td>\n",
       "      <td>7.140861</td>\n",
       "      <td>4.877104</td>\n",
       "      <td>0.346954</td>\n",
       "    </tr>\n",
       "    <tr>\n",
       "      <th>min</th>\n",
       "      <td>2.310000</td>\n",
       "      <td>-1.000000</td>\n",
       "      <td>2.167000</td>\n",
       "      <td>-2.386000</td>\n",
       "      <td>-26.428000</td>\n",
       "      <td>-23.296000</td>\n",
       "      <td>0.000000</td>\n",
       "    </tr>\n",
       "    <tr>\n",
       "      <th>25%</th>\n",
       "      <td>3.419000</td>\n",
       "      <td>0.000000</td>\n",
       "      <td>4.046000</td>\n",
       "      <td>1.404000</td>\n",
       "      <td>-1.522250</td>\n",
       "      <td>-3.416500</td>\n",
       "      <td>1.000000</td>\n",
       "    </tr>\n",
       "    <tr>\n",
       "      <th>50%</th>\n",
       "      <td>3.904000</td>\n",
       "      <td>0.000000</td>\n",
       "      <td>4.658000</td>\n",
       "      <td>3.141000</td>\n",
       "      <td>2.788000</td>\n",
       "      <td>-0.393500</td>\n",
       "      <td>1.000000</td>\n",
       "    </tr>\n",
       "    <tr>\n",
       "      <th>75%</th>\n",
       "      <td>4.568750</td>\n",
       "      <td>0.000000</td>\n",
       "      <td>5.483000</td>\n",
       "      <td>6.497750</td>\n",
       "      <td>7.450000</td>\n",
       "      <td>2.462000</td>\n",
       "      <td>1.000000</td>\n",
       "    </tr>\n",
       "    <tr>\n",
       "      <th>max</th>\n",
       "      <td>16.695000</td>\n",
       "      <td>1.000000</td>\n",
       "      <td>9.889000</td>\n",
       "      <td>8.672000</td>\n",
       "      <td>43.836000</td>\n",
       "      <td>22.677000</td>\n",
       "      <td>1.000000</td>\n",
       "    </tr>\n",
       "  </tbody>\n",
       "</table>\n",
       "</div>"
      ],
      "text/plain": [
       "       p1_trend_slope  delta_dd5_wt_lag3  delta_cmi_sm_lag2  \\\n",
       "count    11018.000000       11018.000000       11018.000000   \n",
       "mean         4.110994          -0.154906           4.848699   \n",
       "std          1.003916           0.362338           1.235435   \n",
       "min          2.310000          -1.000000           2.167000   \n",
       "25%          3.419000           0.000000           4.046000   \n",
       "50%          3.904000           0.000000           4.658000   \n",
       "75%          4.568750           0.000000           5.483000   \n",
       "max         16.695000           1.000000           9.889000   \n",
       "\n",
       "       delta_cmi_sm_lag1  delta_for_age  delta_for_con     for_pro_0  \n",
       "count       11018.000000   11018.000000   11018.000000  11018.000000  \n",
       "mean            3.800561       2.950059      -0.531508      0.860047  \n",
       "std             2.949837       7.140861       4.877104      0.346954  \n",
       "min            -2.386000     -26.428000     -23.296000      0.000000  \n",
       "25%             1.404000      -1.522250      -3.416500      1.000000  \n",
       "50%             3.141000       2.788000      -0.393500      1.000000  \n",
       "75%             6.497750       7.450000       2.462000      1.000000  \n",
       "max             8.672000      43.836000      22.677000      1.000000  "
      ]
     },
     "execution_count": 47,
     "metadata": {},
     "output_type": "execute_result"
    }
   ],
   "source": [
    "X7.describe()"
   ]
  },
  {
   "cell_type": "code",
   "execution_count": 48,
   "id": "616675e7",
   "metadata": {
    "scrolled": true
   },
   "outputs": [
    {
     "name": "stdout",
     "output_type": "stream",
     "text": [
      "Response/label data\n",
      "0    3.916\n",
      "1    4.678\n",
      "2    4.386\n",
      "3    4.772\n",
      "4    2.940\n",
      "Name: p1_trend_slope, dtype: float64\n"
     ]
    }
   ],
   "source": [
    "# predictor\n",
    "y1 = X7.iloc[:,0]\n",
    "print(\"Response/label data\")\n",
    "print(y1.head())"
   ]
  },
  {
   "cell_type": "code",
   "execution_count": 49,
   "id": "793e4779",
   "metadata": {},
   "outputs": [
    {
     "data": {
      "text/plain": [
       "count    11018.000000\n",
       "mean         4.110994\n",
       "std          1.003916\n",
       "min          2.310000\n",
       "25%          3.419000\n",
       "50%          3.904000\n",
       "75%          4.568750\n",
       "max         16.695000\n",
       "Name: p1_trend_slope, dtype: float64"
      ]
     },
     "execution_count": 49,
     "metadata": {},
     "output_type": "execute_result"
    }
   ],
   "source": [
    "y1.describe()"
   ]
  },
  {
   "cell_type": "markdown",
   "id": "b779dd6f",
   "metadata": {},
   "source": [
    "#### References"
   ]
  },
  {
   "cell_type": "markdown",
   "id": "0c055ee4",
   "metadata": {},
   "source": [
    "Mostly tutorials & blogs.\n",
    "\n",
    "https://www.youtube.com/watch?v=OQKQHNCVf5k\n",
    "\n",
    "https://www.youtube.com/watch?v=GrJP9FLV3FE&t=2167s\n",
    "\n",
    "https://datascience.stackexchange.com/questions/16342/unbalanced-multiclass-data-with-xgboost\n",
    "\n",
    "https://mljar.com/blog/xgboost-save-load-python/\n",
    "\n",
    "https://machinelearningmastery.com/xgboost-for-regression/\n",
    "\n",
    "https://scikit-learn.org/stable/modules/model_evaluation.html#scoring-parameter\n",
    "\n",
    "https://pandas.pydata.org/pandas-docs/stable/reference/api/pandas.get_dummies.html\n",
    "\n",
    "https://www.datatechnotes.com/2019/06/regression-example-with-xgbregressor-in.html\n",
    "\n",
    "https://github.com/parrt/dtreeviz\n",
    "\n",
    "https://stackoverflow.com/questions/37627923/how-to-get-feature-importance-in-xgboost\n",
    "\n",
    "https://towardsdatascience.com/be-careful-when-interpreting-your-features-importance-in-xgboost-6e16132588e7\n",
    "\n",
    "https://scikit-learn.org/stable/modules/partial_dependence.html\n",
    "\n",
    "https://scikit-learn.org/stable/auto_examples/inspection/plot_partial_dependence.html#way-partial-dependence-with-different-models\n",
    "\n",
    "https://mljar.com/blog/xgboost-early-stopping/\n",
    "\n",
    "https://scikit-learn.org/stable/modules/classes.html#module-sklearn.metrics\n",
    "\n",
    "https://github.com/parrt/dtreeviz\n",
    "\n",
    "\n",
    "\n"
   ]
  },
  {
   "cell_type": "code",
   "execution_count": null,
   "id": "6be2b3e0",
   "metadata": {},
   "outputs": [],
   "source": []
  }
 ],
 "metadata": {
  "kernelspec": {
   "display_name": "Python 3 (ipykernel)",
   "language": "python",
   "name": "python3"
  },
  "language_info": {
   "codemirror_mode": {
    "name": "ipython",
    "version": 3
   },
   "file_extension": ".py",
   "mimetype": "text/x-python",
   "name": "python",
   "nbconvert_exporter": "python",
   "pygments_lexer": "ipython3",
   "version": "3.10.12"
  }
 },
 "nbformat": 4,
 "nbformat_minor": 5
}
